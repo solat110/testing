{
 "cells": [
  {
   "cell_type": "markdown",
   "metadata": {},
   "source": [
    "# Classess\n"
   ]
  },
  {
   "cell_type": "code",
   "execution_count": 2,
   "metadata": {},
   "outputs": [
    {
     "name": "stdout",
     "output_type": "stream",
     "text": [
      "2016 Audi A4\n",
      "2019 Toyota R5\n"
     ]
    }
   ],
   "source": [
    "class Car():\n",
    "    def __init__(self, make, model, year):  # positional parameters\n",
    "        self.make = make                    # mandatory \n",
    "        self.model = model\n",
    "        self.year = year\n",
    "        \n",
    "    \n",
    "    def get_descriptive_name(self):\n",
    "\n",
    "        long_name = str(self.year) + ' ' + self.make + ' ' + self.model\n",
    "        return long_name.title()\n",
    "\n",
    "my_new_car = Car('audi', 'a4', 2016)\n",
    "print(my_new_car.get_descriptive_name())\n",
    "\n",
    "new_car2=Car(\"toyota\",\"R5\",2019)\n",
    "print(new_car2.get_descriptive_name())\n",
    "\n",
    "\n",
    "\n"
   ]
  },
  {
   "cell_type": "code",
   "execution_count": 22,
   "metadata": {},
   "outputs": [],
   "source": [
    "class Car():\n",
    "    def __init__(self, make, model, year):  # positional parameters\n",
    "        self.make = make                    # mandatory \n",
    "        self.model = model\n",
    "        self.year = year\n",
    "        self.odometer_reading = 0\n",
    "    \n",
    "    def read_odometer(self):\n",
    "        current_odometer_reading = self.odometer_reading\n",
    "        return current_odometer_reading\n",
    "    \n",
    "    def get_descriptive_name(self):\n",
    "\n",
    "        long_name = str(self.year) + ' ' + self.make + ' ' + self.model\n",
    "        return long_name.title()\n",
    "\n",
    "    def update_odometer(self, mileage):\n",
    "        self.odometer_reading = mileage\n"
   ]
  },
  {
   "cell_type": "code",
   "execution_count": 23,
   "metadata": {},
   "outputs": [],
   "source": [
    "my_new_car = Car('audi', 'a4', 2016)  # object created\n",
    "your_new_car = Car(\"BMW\", 'succi', 2019)"
   ]
  },
  {
   "cell_type": "code",
   "execution_count": 24,
   "metadata": {},
   "outputs": [
    {
     "name": "stdout",
     "output_type": "stream",
     "text": [
      "0\n",
      "0\n"
     ]
    }
   ],
   "source": [
    "print(my_new_car.read_odometer())\n",
    "print(your_new_car.read_odometer())"
   ]
  },
  {
   "cell_type": "markdown",
   "metadata": {},
   "source": [
    "# Changing default attribute's value \n",
    "\n",
    "1)Changing the value directly\n",
    "2)Changing the value via function"
   ]
  },
  {
   "cell_type": "markdown",
   "metadata": {},
   "source": [
    "# 1)Changing the value directly"
   ]
  },
  {
   "cell_type": "code",
   "execution_count": 25,
   "metadata": {},
   "outputs": [],
   "source": [
    "my_new_car.odometer_reading = 50"
   ]
  },
  {
   "cell_type": "code",
   "execution_count": 26,
   "metadata": {},
   "outputs": [
    {
     "data": {
      "text/plain": [
       "50"
      ]
     },
     "execution_count": 26,
     "metadata": {},
     "output_type": "execute_result"
    }
   ],
   "source": [
    "my_new_car.read_odometer()"
   ]
  },
  {
   "cell_type": "code",
   "execution_count": 27,
   "metadata": {},
   "outputs": [
    {
     "data": {
      "text/plain": [
       "0"
      ]
     },
     "execution_count": 27,
     "metadata": {},
     "output_type": "execute_result"
    }
   ],
   "source": [
    "your_new_car.read_odometer()"
   ]
  },
  {
   "cell_type": "code",
   "execution_count": 28,
   "metadata": {},
   "outputs": [],
   "source": [
    "your_new_car.odometer_reading=100"
   ]
  },
  {
   "cell_type": "code",
   "execution_count": 29,
   "metadata": {},
   "outputs": [
    {
     "name": "stdout",
     "output_type": "stream",
     "text": [
      "50\n",
      "100\n"
     ]
    }
   ],
   "source": [
    "print(my_new_car.read_odometer())\n",
    "print(your_new_car.read_odometer())"
   ]
  },
  {
   "cell_type": "markdown",
   "metadata": {},
   "source": [
    "# 2)Changing the value via function"
   ]
  },
  {
   "cell_type": "code",
   "execution_count": 30,
   "metadata": {},
   "outputs": [
    {
     "data": {
      "text/plain": [
       "500"
      ]
     },
     "execution_count": 30,
     "metadata": {},
     "output_type": "execute_result"
    }
   ],
   "source": [
    "my_new_car.update_odometer(500)\n",
    "my_new_car.read_odometer()"
   ]
  },
  {
   "cell_type": "code",
   "execution_count": 31,
   "metadata": {},
   "outputs": [
    {
     "data": {
      "text/plain": [
       "1000"
      ]
     },
     "execution_count": 31,
     "metadata": {},
     "output_type": "execute_result"
    }
   ],
   "source": [
    "your_new_car.update_odometer(1000)\n",
    "your_new_car.read_odometer()"
   ]
  },
  {
   "cell_type": "markdown",
   "metadata": {},
   "source": [
    "# Restaurant Example (9.1)"
   ]
  },
  {
   "cell_type": "code",
   "execution_count": 32,
   "metadata": {},
   "outputs": [],
   "source": [
    "class Restaurant():\n",
    "    \n",
    "    def __init__(self, restaurantName, cuisineType):\n",
    "        self.restaurantName = restaurantName\n",
    "        self.cuisineType= cuisineType\n",
    "        \n",
    "    def describeRestaurant(self):\n",
    "        print(f\"The name of restaurant is {self.restaurantName}\")\n",
    "        print(f\"The cuisine type is {self.cuisineType}\")\n",
    "        \n",
    "    def openRestaurant(self):\n",
    "        print(f\"{self.restaurantName} is open now\")    "
   ]
  },
  {
   "cell_type": "code",
   "execution_count": 33,
   "metadata": {},
   "outputs": [],
   "source": [
    "restaurant = Restaurant(\"KBC\",\"Pakistani\")"
   ]
  },
  {
   "cell_type": "code",
   "execution_count": 34,
   "metadata": {},
   "outputs": [
    {
     "name": "stdout",
     "output_type": "stream",
     "text": [
      "KBC\n",
      "Pakistani\n"
     ]
    }
   ],
   "source": [
    "print(restaurant.restaurantName)\n",
    "print(restaurant.cuisineType)"
   ]
  },
  {
   "cell_type": "code",
   "execution_count": 35,
   "metadata": {},
   "outputs": [
    {
     "name": "stdout",
     "output_type": "stream",
     "text": [
      "The name of restaurant is KBC\n",
      "The cuisine type is Pakistani\n"
     ]
    }
   ],
   "source": [
    "restaurant.describeRestaurant()"
   ]
  },
  {
   "cell_type": "code",
   "execution_count": 36,
   "metadata": {},
   "outputs": [
    {
     "name": "stdout",
     "output_type": "stream",
     "text": [
      "KBC is open now\n"
     ]
    }
   ],
   "source": [
    "restaurant.openRestaurant()"
   ]
  },
  {
   "cell_type": "code",
   "execution_count": 37,
   "metadata": {},
   "outputs": [],
   "source": [
    "class Restaurant():     \n",
    "    def __init__(self, restaurantName, cuisineType):\n",
    "        self.restaurantName = restaurantName\n",
    "        self.cuisineType= cuisineType\n",
    "        self.numberServed = 0\n",
    "        \n",
    "    def set_number_served(self, numbers):\n",
    "        self.numberServed = numbers\n",
    "        \n",
    "    def increment_number_served(self,numbers):\n",
    "        self.numberServed +=numbers\n",
    "    \n",
    "    def getNumbersServed(self):\n",
    "        print(f\"Total customers served today are {self.numberServed }\")\n",
    "    \n",
    "    def describeRestaurant(self):\n",
    "        print(f\"The name of restaurant is {self.restaurantName}\")\n",
    "        print(f\"The cuisine type is {self.cuisineType}\")\n",
    "        \n",
    "    def openRestaurant(self):\n",
    "        print(f\"{self.restaurantName} is open now\")           "
   ]
  },
  {
   "cell_type": "code",
   "execution_count": 38,
   "metadata": {},
   "outputs": [],
   "source": [
    "restaurant = Restaurant(\"PIAIC\", \"Python\") # object creation"
   ]
  },
  {
   "cell_type": "code",
   "execution_count": 39,
   "metadata": {},
   "outputs": [],
   "source": [
    "# Accessing attributes via object name"
   ]
  },
  {
   "cell_type": "code",
   "execution_count": 40,
   "metadata": {},
   "outputs": [
    {
     "data": {
      "text/plain": [
       "'PIAIC'"
      ]
     },
     "execution_count": 40,
     "metadata": {},
     "output_type": "execute_result"
    }
   ],
   "source": [
    "restaurant.restaurantName  "
   ]
  },
  {
   "cell_type": "code",
   "execution_count": 41,
   "metadata": {},
   "outputs": [
    {
     "data": {
      "text/plain": [
       "'Python'"
      ]
     },
     "execution_count": 41,
     "metadata": {},
     "output_type": "execute_result"
    }
   ],
   "source": [
    "restaurant.cuisineType"
   ]
  },
  {
   "cell_type": "code",
   "execution_count": 42,
   "metadata": {},
   "outputs": [
    {
     "data": {
      "text/plain": [
       "0"
      ]
     },
     "execution_count": 42,
     "metadata": {},
     "output_type": "execute_result"
    }
   ],
   "source": [
    "restaurant.numberServed"
   ]
  },
  {
   "cell_type": "code",
   "execution_count": 43,
   "metadata": {},
   "outputs": [],
   "source": [
    "# accessing functions via object name"
   ]
  },
  {
   "cell_type": "code",
   "execution_count": 44,
   "metadata": {},
   "outputs": [
    {
     "name": "stdout",
     "output_type": "stream",
     "text": [
      "The name of restaurant is PIAIC\n",
      "The cuisine type is Python\n"
     ]
    }
   ],
   "source": [
    "restaurant.describeRestaurant()"
   ]
  },
  {
   "cell_type": "code",
   "execution_count": 45,
   "metadata": {},
   "outputs": [
    {
     "name": "stdout",
     "output_type": "stream",
     "text": [
      "PIAIC is open now\n"
     ]
    }
   ],
   "source": [
    "restaurant.openRestaurant()"
   ]
  },
  {
   "cell_type": "code",
   "execution_count": 46,
   "metadata": {},
   "outputs": [],
   "source": [
    "# Changing default value by calling functions\n",
    "# Accessing default value by calling functions"
   ]
  },
  {
   "cell_type": "code",
   "execution_count": 47,
   "metadata": {},
   "outputs": [
    {
     "name": "stdout",
     "output_type": "stream",
     "text": [
      "Total customers served today are 15\n"
     ]
    }
   ],
   "source": [
    "restaurant.set_number_served(15)\n",
    "restaurant.getNumbersServed()"
   ]
  },
  {
   "cell_type": "code",
   "execution_count": null,
   "metadata": {},
   "outputs": [],
   "source": []
  },
  {
   "cell_type": "code",
   "execution_count": 48,
   "metadata": {},
   "outputs": [
    {
     "name": "stdout",
     "output_type": "stream",
     "text": [
      "Total customers served today are 16\n"
     ]
    }
   ],
   "source": [
    "restaurant.increment_number_served(1)\n",
    "restaurant.getNumbersServed()"
   ]
  },
  {
   "cell_type": "markdown",
   "metadata": {},
   "source": [
    "# Inheritance"
   ]
  },
  {
   "cell_type": "code",
   "execution_count": 49,
   "metadata": {},
   "outputs": [],
   "source": [
    "class Car():\n",
    "    def __init__(self, make, model, year):  # positional parameters\n",
    "        self.make = make                    # mandatory \n",
    "        self.model = model\n",
    "        self.year = year\n",
    "        self.odometer_reading = 0\n",
    "    \n",
    "    def read_odometer(self):\n",
    "        current_odometer_reading = self.odometer_reading\n",
    "        return current_odometer_reading\n",
    "    \n",
    "    def get_descriptive_name(self):\n",
    "\n",
    "        long_name = str(self.year) + ' ' + self.make + ' ' + self.model\n",
    "        return long_name.title()\n",
    "\n",
    "    def update_odometer(self, mileage):\n",
    "        self.odometer_reading = mileage\n"
   ]
  },
  {
   "cell_type": "code",
   "execution_count": 61,
   "metadata": {},
   "outputs": [],
   "source": [
    "class Battery():\n",
    "    def __init__(self,manufacturer,size,amp):\n",
    "        self.manufacturer=manufacturer\n",
    "        self.size=size\n",
    "        self.amp=amp\n",
    "    \n",
    "    def getBatterySize(self):\n",
    "        print (f\"The battery size of electricCar is {self.size}\")\n",
    "    \n",
    "    def setBatterysize(self,newsize):\n",
    "        self.size=newSize\n",
    "        "
   ]
  },
  {
   "cell_type": "code",
   "execution_count": 66,
   "metadata": {},
   "outputs": [],
   "source": [
    "class Engine():\n",
    "    def __init__(self,transmission,hp,eMake):\n",
    "        self.transmission=transmission\n",
    "        self.hp=hp\n",
    "        self.eMake=eMake\n",
    "        \n",
    "    def getEngineTransmission(self):\n",
    "        print(f\"The Engine Transmission of Electric Car is {self.transmission}\")\n",
    "        \n",
    "    def setEngineTransmission(self,newTransmission):\n",
    "        self.newTransmission\n",
    "    "
   ]
  },
  {
   "cell_type": "code",
   "execution_count": 71,
   "metadata": {},
   "outputs": [],
   "source": [
    "class ElectricCar(Car):\n",
    "    def __init__(self,make,model,year):\n",
    "        super().__init__(make,model,year)\n",
    "        self.battery = Battery(\"AGS\",100,200)\n",
    "        self.engine=Engine(Automatic,1800,honda)\n",
    "        "
   ]
  },
  {
   "cell_type": "code",
   "execution_count": 72,
   "metadata": {},
   "outputs": [
    {
     "ename": "NameError",
     "evalue": "name 'Automatic' is not defined",
     "output_type": "error",
     "traceback": [
      "\u001b[1;31m---------------------------------------------------------------------------\u001b[0m",
      "\u001b[1;31mNameError\u001b[0m                                 Traceback (most recent call last)",
      "\u001b[1;32m<ipython-input-72-84a95d502054>\u001b[0m in \u001b[0;36m<module>\u001b[1;34m\u001b[0m\n\u001b[1;32m----> 1\u001b[1;33m \u001b[0meCar\u001b[0m \u001b[1;33m=\u001b[0m \u001b[0mElectricCar\u001b[0m\u001b[1;33m(\u001b[0m\u001b[1;34m\"er\"\u001b[0m\u001b[1;33m,\u001b[0m\u001b[1;34m\"rtr\"\u001b[0m\u001b[1;33m,\u001b[0m\u001b[1;36m45\u001b[0m\u001b[1;33m)\u001b[0m\u001b[1;33m\u001b[0m\u001b[1;33m\u001b[0m\u001b[0m\n\u001b[0m",
      "\u001b[1;32m<ipython-input-71-d866b5b9aa47>\u001b[0m in \u001b[0;36m__init__\u001b[1;34m(self, make, model, year)\u001b[0m\n\u001b[0;32m      3\u001b[0m         \u001b[0msuper\u001b[0m\u001b[1;33m(\u001b[0m\u001b[1;33m)\u001b[0m\u001b[1;33m.\u001b[0m\u001b[0m__init__\u001b[0m\u001b[1;33m(\u001b[0m\u001b[0mmake\u001b[0m\u001b[1;33m,\u001b[0m\u001b[0mmodel\u001b[0m\u001b[1;33m,\u001b[0m\u001b[0myear\u001b[0m\u001b[1;33m)\u001b[0m\u001b[1;33m\u001b[0m\u001b[1;33m\u001b[0m\u001b[0m\n\u001b[0;32m      4\u001b[0m         \u001b[0mself\u001b[0m\u001b[1;33m.\u001b[0m\u001b[0mbattery\u001b[0m \u001b[1;33m=\u001b[0m \u001b[0mBattery\u001b[0m\u001b[1;33m(\u001b[0m\u001b[1;34m\"AGS\"\u001b[0m\u001b[1;33m,\u001b[0m\u001b[1;36m100\u001b[0m\u001b[1;33m,\u001b[0m\u001b[1;36m200\u001b[0m\u001b[1;33m)\u001b[0m\u001b[1;33m\u001b[0m\u001b[1;33m\u001b[0m\u001b[0m\n\u001b[1;32m----> 5\u001b[1;33m         \u001b[0mself\u001b[0m\u001b[1;33m.\u001b[0m\u001b[0mengine\u001b[0m\u001b[1;33m=\u001b[0m\u001b[0mEngine\u001b[0m\u001b[1;33m(\u001b[0m\u001b[0mAutomatic\u001b[0m\u001b[1;33m,\u001b[0m\u001b[1;36m1800\u001b[0m\u001b[1;33m,\u001b[0m\u001b[0mhonda\u001b[0m\u001b[1;33m)\u001b[0m\u001b[1;33m\u001b[0m\u001b[1;33m\u001b[0m\u001b[0m\n\u001b[0m\u001b[0;32m      6\u001b[0m \u001b[1;33m\u001b[0m\u001b[0m\n",
      "\u001b[1;31mNameError\u001b[0m: name 'Automatic' is not defined"
     ]
    }
   ],
   "source": [
    "eCar = ElectricCar(\"er\",\"rtr\",45)"
   ]
  },
  {
   "cell_type": "code",
   "execution_count": 73,
   "metadata": {},
   "outputs": [
    {
     "name": "stdout",
     "output_type": "stream",
     "text": [
      "The battery size of electricCar is 100\n"
     ]
    }
   ],
   "source": [
    "eCar.battery.getBatterySize()"
   ]
  },
  {
   "cell_type": "code",
   "execution_count": 68,
   "metadata": {},
   "outputs": [
    {
     "ename": "NameError",
     "evalue": "name 'ecar' is not defined",
     "output_type": "error",
     "traceback": [
      "\u001b[1;31m---------------------------------------------------------------------------\u001b[0m",
      "\u001b[1;31mNameError\u001b[0m                                 Traceback (most recent call last)",
      "\u001b[1;32m<ipython-input-68-a782b3ad7fa5>\u001b[0m in \u001b[0;36m<module>\u001b[1;34m\u001b[0m\n\u001b[1;32m----> 1\u001b[1;33m \u001b[0mecar\u001b[0m\u001b[1;33m.\u001b[0m\u001b[0mengine\u001b[0m\u001b[1;33m.\u001b[0m\u001b[0mgetEngineTransmission\u001b[0m\u001b[1;33m(\u001b[0m\u001b[1;33m)\u001b[0m\u001b[1;33m\u001b[0m\u001b[1;33m\u001b[0m\u001b[0m\n\u001b[0m",
      "\u001b[1;31mNameError\u001b[0m: name 'ecar' is not defined"
     ]
    }
   ],
   "source": [
    "ecar.engine.getEngineTransmission()"
   ]
  },
  {
   "cell_type": "markdown",
   "metadata": {},
   "source": [
    "# File open and Write"
   ]
  },
  {
   "cell_type": "code",
   "execution_count": 8,
   "metadata": {},
   "outputs": [],
   "source": [
    "with open(\"saylaniGulshan.txt\", \"w\") as file:\n",
    "    file.write(\" Hello Python World\")"
   ]
  },
  {
   "cell_type": "code",
   "execution_count": 9,
   "metadata": {},
   "outputs": [
    {
     "name": "stdout",
     "output_type": "stream",
     "text": [
      " Hello Python World\n"
     ]
    }
   ],
   "source": [
    "with open(\"saylaniGulshan.txt\", \"r\") as file:\n",
    "    content = file.read()\n",
    "    print(content)"
   ]
  },
  {
   "cell_type": "code",
   "execution_count": 10,
   "metadata": {},
   "outputs": [
    {
     "data": {
      "text/plain": [
       "' Hello Python World'"
      ]
     },
     "execution_count": 10,
     "metadata": {},
     "output_type": "execute_result"
    }
   ],
   "source": [
    "content"
   ]
  },
  {
   "cell_type": "code",
   "execution_count": 14,
   "metadata": {},
   "outputs": [],
   "source": [
    "my_file = \"saylaniGulshan.txt\"\n",
    "with open(my_file, \"a\") as file:\n",
    "    file.write(\" Hello PIAIC\")"
   ]
  },
  {
   "cell_type": "code",
   "execution_count": 15,
   "metadata": {},
   "outputs": [],
   "source": [
    "with open(\"saylaniGulshan.txt\", \"r\") as file:\n",
    "    t = file.read()"
   ]
  },
  {
   "cell_type": "code",
   "execution_count": 16,
   "metadata": {},
   "outputs": [
    {
     "data": {
      "text/plain": [
       "' Hello Python WorldHello PIAIC Hello PIAIC'"
      ]
     },
     "execution_count": 16,
     "metadata": {},
     "output_type": "execute_result"
    }
   ],
   "source": [
    "t"
   ]
  },
  {
   "cell_type": "code",
   "execution_count": null,
   "metadata": {},
   "outputs": [],
   "source": [
    "my_file = \"saylani.txt\"\n",
    "with open(myfile, \"r+\") as file:\n",
    "    text = file.read()"
   ]
  },
  {
   "cell_type": "code",
   "execution_count": null,
   "metadata": {},
   "outputs": [],
   "source": []
  },
  {
   "cell_type": "markdown",
   "metadata": {},
   "source": [
    "# Task: get input from 10 Users and write into files "
   ]
  },
  {
   "cell_type": "code",
   "execution_count": 17,
   "metadata": {},
   "outputs": [],
   "source": [
    "with open (\"datafile.txt\",\"w\") as file:\n",
    "    file.write(\"Name  age  CNIC\")"
   ]
  },
  {
   "cell_type": "code",
   "execution_count": 19,
   "metadata": {},
   "outputs": [
    {
     "name": "stdout",
     "output_type": "stream",
     "text": [
      "Name  age  CNIC\n"
     ]
    }
   ],
   "source": [
    "with open(\"datafile.txt\", \"r\")as file:\n",
    "    print (file.read())"
   ]
  },
  {
   "cell_type": "code",
   "execution_count": null,
   "metadata": {},
   "outputs": [],
   "source": [
    "user_file = datafile.txt\n",
    "with open (user_file, \"a\") as file:\n",
    "    file.write(getuser)"
   ]
  }
 ],
 "metadata": {
  "kernelspec": {
   "display_name": "Python 3",
   "language": "python",
   "name": "python3"
  },
  "language_info": {
   "codemirror_mode": {
    "name": "ipython",
    "version": 3
   },
   "file_extension": ".py",
   "mimetype": "text/x-python",
   "name": "python",
   "nbconvert_exporter": "python",
   "pygments_lexer": "ipython3",
   "version": "3.7.3"
  }
 },
 "nbformat": 4,
 "nbformat_minor": 2
}
