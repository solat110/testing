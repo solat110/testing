{
 "cells": [
  {
   "cell_type": "markdown",
   "metadata": {},
   "source": [
    "# ATM Machine"
   ]
  },
  {
   "cell_type": "markdown",
   "metadata": {},
   "source": [
    "# Coding By Solat Under The Supervision Of Sir Nasir Hussain "
   ]
  },
  {
   "cell_type": "code",
   "execution_count": 15,
   "metadata": {},
   "outputs": [
    {
     "name": "stdout",
     "output_type": "stream",
     "text": [
      "Enter Your 16-digit Account Number 12345678\n",
      "Enter Your 4-digit Pin 1234\n",
      "Select Your Option\n",
      "1 for WithDraw\n",
      "2 for Deposit\n",
      "3 for Balance\n",
      "2\n",
      "Enter Amount \n"
     ]
    },
    {
     "ename": "ValueError",
     "evalue": "invalid literal for int() with base 10: ''",
     "output_type": "error",
     "traceback": [
      "\u001b[1;31m---------------------------------------------------------------------------\u001b[0m",
      "\u001b[1;31mValueError\u001b[0m                                Traceback (most recent call last)",
      "\u001b[1;32m<ipython-input-15-c452293b962a>\u001b[0m in \u001b[0;36m<module>\u001b[1;34m\u001b[0m\n\u001b[0;32m     24\u001b[0m             \u001b[0mprint\u001b[0m\u001b[1;33m(\u001b[0m\u001b[1;34mf\"Your Remaining Balance is {b}\"\u001b[0m\u001b[1;33m)\u001b[0m\u001b[1;33m\u001b[0m\u001b[1;33m\u001b[0m\u001b[0m\n\u001b[0;32m     25\u001b[0m     \u001b[1;32melif\u001b[0m \u001b[0mchoice\u001b[0m\u001b[1;33m==\u001b[0m\u001b[1;36m2\u001b[0m\u001b[1;33m:\u001b[0m\u001b[1;33m\u001b[0m\u001b[1;33m\u001b[0m\u001b[0m\n\u001b[1;32m---> 26\u001b[1;33m         \u001b[0mdeposit\u001b[0m\u001b[1;33m=\u001b[0m\u001b[0mint\u001b[0m\u001b[1;33m(\u001b[0m\u001b[0minput\u001b[0m\u001b[1;33m(\u001b[0m\u001b[1;34m\"Enter Amount \"\u001b[0m\u001b[1;33m)\u001b[0m\u001b[1;33m)\u001b[0m\u001b[1;33m\u001b[0m\u001b[1;33m\u001b[0m\u001b[0m\n\u001b[0m\u001b[0;32m     27\u001b[0m         \u001b[1;32mif\u001b[0m \u001b[0mdeposit\u001b[0m \u001b[1;33m<\u001b[0m \u001b[1;36m500\u001b[0m\u001b[1;33m:\u001b[0m\u001b[1;33m\u001b[0m\u001b[1;33m\u001b[0m\u001b[0m\n\u001b[0;32m     28\u001b[0m             \u001b[0mprint\u001b[0m\u001b[1;33m(\u001b[0m\u001b[1;34m\"Kindly Increase Your limit to Standard Limit\"\u001b[0m\u001b[1;33m)\u001b[0m\u001b[1;33m\u001b[0m\u001b[1;33m\u001b[0m\u001b[0m\n",
      "\u001b[1;31mValueError\u001b[0m: invalid literal for int() with base 10: ''"
     ]
    }
   ],
   "source": [
    "Account_No=int(input(\"Enter Your 16-digit Account Number \")) # Account No=12345678\n",
    "Pin_Code=int(input(\"Enter Your 4-digit Pin \")) # Pin=1234\n",
    "a = 1000\n",
    "b = 3000\n",
    "\n",
    "if Account_No==12345678 and Pin_Code==1234:\n",
    "    print(\"Select Your Option\",end='\\n')\n",
    "    print(\"1 for WithDraw\",end='\\n')\n",
    "    print(\"2 for Deposit\",end='\\n')\n",
    "    print(\"3 for Balance\",end='\\n')\n",
    "    choice=int(input(\"\"))\n",
    "    if choice==3:\n",
    "        print(f\"Your Balance is {b}\")\n",
    "    elif choice==1:\n",
    "        withdraw=int(input(\"Enter Amount \"))\n",
    "        if withdraw < 500:\n",
    "            print(\"Kindly Increase Your limit to Standard Limit\")\n",
    "            print(\"Standard Limit = 500\")\n",
    "        elif withdraw > b:\n",
    "            print(\"Insufficient Balance\")\n",
    "        else:\n",
    "            b=b-withdraw\n",
    "            print(\"Kinldy Collect Cash\")\n",
    "            print(f\"Your Remaining Balance is {b}\")\n",
    "    elif choice==2:\n",
    "        deposit=int(input(\"Enter Amount \"))\n",
    "        if deposit < 500:\n",
    "            print(\"Kindly Increase Your limit to Standard Limit\")\n",
    "            print(\"Standard Limit = 500\")\n",
    "        else:\n",
    "            b=b+deposit\n",
    "            print(f\"Your Remaining Balance is {b}\")\n",
    "    else:\n",
    "        print(\"Invalid Selection\")\n",
    "else:\n",
    "    print(\"Your Account Number or Pin is invalid\")\n",
    "    \n",
    "a = b\n"
   ]
  },
  {
   "cell_type": "code",
   "execution_count": 51,
   "metadata": {},
   "outputs": [
    {
     "name": "stdout",
     "output_type": "stream",
     "text": [
      "Enter Your 16-digit Account Number: 12345678\n",
      "Enter Your pin: 1234\n",
      "Select Your Optinons\n",
      "1 for WithDraw \n",
      "2 for Deposit \n",
      "3 for Balance\n",
      "3\n",
      "Your balance is 3000\n"
     ]
    }
   ],
   "source": [
    "accont = int(input(\"Enter Your 16-digit Account Number: \"))\n",
    "pin = int(input(\"Enter Your pin: \"))\n",
    "n=1000\n",
    "l=3000\n",
    "if accont==12345678 and pin==1234:\n",
    "    print(\"Select Your Optinons\", end=\"\\n\")\n",
    "    print(\"1 for WithDraw \\n2 for Deposit \\n3 for Balance\")\n",
    "    select=int(input(\"\"))\n",
    "    if select==3:\n",
    "        print (f'Your balance is {l}')\n",
    "    elif select==2:\n",
    "        depo=int(input(\"Enter Deposit Amount: \"))\n",
    "        if depo<500:\n",
    "            print(\"Please increase your Limit\")\n",
    "        else:\n",
    "            l=l+depo\n",
    "            print(f'Your new balance is {l}')\n",
    "    \n",
    "    elif select==1:\n",
    "        draw=int(input(\"Enter Withdrawal Amount: \"))\n",
    "        if draw<500:\n",
    "            print(\"Sorry you can not withdraw less than Rs.500\")\n",
    "        elif draw>l:\n",
    "            print(\"Sorry Balance is insufficient\")\n",
    "        else:\n",
    "            l=l-draw\n",
    "            print(\"Kindly Collect your Cash\")\n",
    "            print(f'Your Remaining Balance is {l}')\n",
    "else:\n",
    "    print (\"account or pin is invalid\")\n",
    "n=l"
   ]
  },
  {
   "cell_type": "code",
   "execution_count": null,
   "metadata": {},
   "outputs": [],
   "source": []
  }
 ],
 "metadata": {
  "kernelspec": {
   "display_name": "Python 3",
   "language": "python",
   "name": "python3"
  },
  "language_info": {
   "codemirror_mode": {
    "name": "ipython",
    "version": 3
   },
   "file_extension": ".py",
   "mimetype": "text/x-python",
   "name": "python",
   "nbconvert_exporter": "python",
   "pygments_lexer": "ipython3",
   "version": "3.7.3"
  }
 },
 "nbformat": 4,
 "nbformat_minor": 2
}
