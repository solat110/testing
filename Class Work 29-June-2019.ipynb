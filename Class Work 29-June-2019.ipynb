{
 "cells": [
  {
   "cell_type": "code",
   "execution_count": 5,
   "metadata": {},
   "outputs": [],
   "source": [
    "def cars(model,make,*specs):\n",
    "    print(model, make)\n",
    "    print(specs)\n"
   ]
  },
  {
   "cell_type": "code",
   "execution_count": 6,
   "metadata": {},
   "outputs": [
    {
     "name": "stdout",
     "output_type": "stream",
     "text": [
      "2010 Toyota Corolla\n",
      "('Alloyrim', 'Tape', 'Power window')\n"
     ]
    }
   ],
   "source": [
    "cars(2010, \"Toyota Corolla\",\"Alloyrim\",\"Tape\",\"Power window\")"
   ]
  },
  {
   "cell_type": "code",
   "execution_count": 7,
   "metadata": {},
   "outputs": [
    {
     "name": "stdout",
     "output_type": "stream",
     "text": [
      "2010 Toyota Corolla\n",
      "('Automatic',)\n"
     ]
    }
   ],
   "source": [
    "cars(2010,\"Toyota Corolla\",\"Automatic\")"
   ]
  },
  {
   "cell_type": "code",
   "execution_count": 8,
   "metadata": {},
   "outputs": [
    {
     "name": "stdout",
     "output_type": "stream",
     "text": [
      "2015 Honda Civic\n",
      "(['Alloyrim', 'Tape', 'Power window'],)\n"
     ]
    }
   ],
   "source": [
    "cars(2015,\"Honda Civic\",[\"Alloyrim\",\"Tape\",\"Power window\"])"
   ]
  },
  {
   "cell_type": "code",
   "execution_count": 17,
   "metadata": {},
   "outputs": [],
   "source": [
    "def pizza(name,size,payment,*toppings):\n",
    "    print(\"Order is given by: \"+name)\n",
    "    print(\"Size of Pizza is: \"+size)\n",
    "    print(\"your Amount for Pizza is: \"+payment)\n",
    "    print(\"Toppings are : \")\n",
    "    for topping in toppings:\n",
    "        print(topping)"
   ]
  },
  {
   "cell_type": "code",
   "execution_count": 18,
   "metadata": {},
   "outputs": [
    {
     "name": "stdout",
     "output_type": "stream",
     "text": [
      "Order is given by: Salman\n",
      "Size of Pizza is: 10inch pizza\n",
      "your Amount for Pizza is: Rs.900\n",
      "Toppings are : \n",
      "Extra Cheese\n",
      "Olives\n",
      "soft Crust\n"
     ]
    }
   ],
   "source": [
    "pizza(\"Salman\",\"10inch pizza\",\"Rs.900\",\"Extra Cheese\",\"Olives\",\"soft Crust\")"
   ]
  },
  {
   "cell_type": "markdown",
   "metadata": {},
   "source": [
    "# Keyword Arguments"
   ]
  },
  {
   "cell_type": "code",
   "execution_count": 19,
   "metadata": {},
   "outputs": [],
   "source": [
    "def person(fname,lname, **about):\n",
    "    print (fname, lname)\n",
    "    print (about)"
   ]
  },
  {
   "cell_type": "code",
   "execution_count": 29,
   "metadata": {},
   "outputs": [
    {
     "name": "stdout",
     "output_type": "stream",
     "text": [
      "Solat Abbas\n",
      "{'age': 25, 'address': 'Karachi'}\n"
     ]
    }
   ],
   "source": [
    "person(\"Solat\",\"Abbas\", age=25, address=\"Karachi\")"
   ]
  },
  {
   "cell_type": "code",
   "execution_count": 23,
   "metadata": {},
   "outputs": [
    {
     "name": "stdout",
     "output_type": "stream",
     "text": [
      "Tim John\n",
      "{'age': 30, 'P_Number': [300562566, 3015686545], 'address': 'Lahore'}\n"
     ]
    }
   ],
   "source": [
    "person(\"Tim\",\"John\",age = 30, P_Number=[300562566, 3015686545], address = \"Lahore\")"
   ]
  },
  {
   "cell_type": "markdown",
   "metadata": {},
   "source": [
    "# Using Function as a Variable"
   ]
  },
  {
   "cell_type": "code",
   "execution_count": 25,
   "metadata": {},
   "outputs": [],
   "source": [
    "def add():\n",
    "    x = 3+5\n",
    "    return x"
   ]
  },
  {
   "cell_type": "code",
   "execution_count": 31,
   "metadata": {},
   "outputs": [],
   "source": [
    "def sub():\n",
    "    y = 23-9\n",
    "    return y"
   ]
  },
  {
   "cell_type": "code",
   "execution_count": 32,
   "metadata": {},
   "outputs": [],
   "source": [
    "answer = add()+sub()"
   ]
  },
  {
   "cell_type": "code",
   "execution_count": 33,
   "metadata": {},
   "outputs": [
    {
     "data": {
      "text/plain": [
       "22"
      ]
     },
     "execution_count": 33,
     "metadata": {},
     "output_type": "execute_result"
    }
   ],
   "source": [
    "answer"
   ]
  },
  {
   "cell_type": "code",
   "execution_count": 35,
   "metadata": {},
   "outputs": [],
   "source": [
    "def salary(basic,commission):\n",
    "    total = basic + commission\n",
    "    print (f\" your Salary is:{total} \")"
   ]
  },
  {
   "cell_type": "code",
   "execution_count": 36,
   "metadata": {},
   "outputs": [],
   "source": [
    "def commissionCalc(sales):\n",
    "    if sales >= 100000:\n",
    "        percentage = 30\n",
    "    elif sales >= 50000:\n",
    "        percentage = 20\n",
    "    elif sales >= 30000:\n",
    "        percentage = 10\n",
    "    elif sales>=10000:\n",
    "        percentage = 5\n",
    "    else:\n",
    "        percentage = 0\n",
    "    commission = sales*percentage/100\n",
    "    return commission"
   ]
  },
  {
   "cell_type": "code",
   "execution_count": 37,
   "metadata": {},
   "outputs": [
    {
     "name": "stdout",
     "output_type": "stream",
     "text": [
      " your Salary is:35000.0 \n"
     ]
    }
   ],
   "source": [
    "salary(25000,commissionCalc(50000))"
   ]
  },
  {
   "cell_type": "code",
   "execution_count": 41,
   "metadata": {},
   "outputs": [
    {
     "name": "stdout",
     "output_type": "stream",
     "text": [
      "Enter your basic Salary: 30000\n",
      "Enter your sales: 30000\n"
     ]
    },
    {
     "ename": "TypeError",
     "evalue": "salary() missing 1 required positional argument: 'commission'",
     "output_type": "error",
     "traceback": [
      "\u001b[1;31m---------------------------------------------------------------------------\u001b[0m",
      "\u001b[1;31mTypeError\u001b[0m                                 Traceback (most recent call last)",
      "\u001b[1;32m<ipython-input-41-1f942745faf8>\u001b[0m in \u001b[0;36m<module>\u001b[1;34m\u001b[0m\n\u001b[0;32m      1\u001b[0m \u001b[0mbasic\u001b[0m \u001b[1;33m=\u001b[0m \u001b[0mint\u001b[0m\u001b[1;33m(\u001b[0m\u001b[0minput\u001b[0m\u001b[1;33m(\u001b[0m\u001b[1;34m\"Enter your basic Salary: \"\u001b[0m\u001b[1;33m)\u001b[0m\u001b[1;33m)\u001b[0m\u001b[1;33m\u001b[0m\u001b[1;33m\u001b[0m\u001b[0m\n\u001b[0;32m      2\u001b[0m \u001b[0msales\u001b[0m \u001b[1;33m=\u001b[0m \u001b[0mint\u001b[0m\u001b[1;33m(\u001b[0m\u001b[0minput\u001b[0m\u001b[1;33m(\u001b[0m\u001b[1;34m\"Enter your sales: \"\u001b[0m\u001b[1;33m)\u001b[0m\u001b[1;33m)\u001b[0m\u001b[1;33m\u001b[0m\u001b[1;33m\u001b[0m\u001b[0m\n\u001b[1;32m----> 3\u001b[1;33m \u001b[0msalary\u001b[0m\u001b[1;33m(\u001b[0m\u001b[0mbasic\u001b[0m\u001b[1;33m+\u001b[0m\u001b[0mcommissionCalc\u001b[0m\u001b[1;33m(\u001b[0m\u001b[0msales\u001b[0m\u001b[1;33m)\u001b[0m\u001b[1;33m)\u001b[0m\u001b[1;33m\u001b[0m\u001b[1;33m\u001b[0m\u001b[0m\n\u001b[0m",
      "\u001b[1;31mTypeError\u001b[0m: salary() missing 1 required positional argument: 'commission'"
     ]
    }
   ],
   "source": [
    "basic = int(input(\"Enter your basic Salary: \"))\n",
    "sales = int(input(\"Enter your sales: \"))\n",
    "salary(basic+commissionCalc(sales))"
   ]
  },
  {
   "cell_type": "code",
   "execution_count": 42,
   "metadata": {},
   "outputs": [],
   "source": [
    "fruit = \"Apple\""
   ]
  },
  {
   "cell_type": "code",
   "execution_count": 44,
   "metadata": {},
   "outputs": [
    {
     "name": "stdout",
     "output_type": "stream",
     "text": [
      "Enter Name or Type exit to quit: khan\n",
      "khan\n",
      "Enter Name or Type exit to quit: looping\n",
      "looping\n",
      "Enter Name or Type exit to quit: goog\n",
      "goog\n",
      "Enter Name or Type exit to quit: exit\n",
      "exit\n"
     ]
    }
   ],
   "source": [
    "flag = True\n",
    "while flag:\n",
    "    name= input(\"Enter Name or Type exit to quit: \")\n",
    "    print(name)\n",
    "    if name==\"exit\":\n",
    "        flag = False\n",
    "    "
   ]
  },
  {
   "cell_type": "markdown",
   "metadata": {},
   "source": [
    "# Pizza Topping Functions with Loop"
   ]
  },
  {
   "cell_type": "code",
   "execution_count": null,
   "metadata": {},
   "outputs": [],
   "source": [
    "def pizza(name,size,flavour,*toppings):\n",
    "    print(\"Order is given by: \"+name)\n",
    "    print(\"Size of Pizza is: \"+size)\n",
    "    print(\"your Amount for Pizza is: \"+payment)\n",
    "    print(\"Toppings are : \")\n",
    "    for topping in toppings:\n",
    "        print(topping)"
   ]
  },
  {
   "cell_type": "code",
   "execution_count": null,
   "metadata": {},
   "outputs": [],
   "source": [
    "def pizza():\n",
    "    name = input(\"Enter your Name: \")\n",
    "    size = input(\"Enter Pizza Size: \")\n",
    "    flavour = input(\"Enter your Pizza Flavour: \")\n",
    "    flag = True\n",
    "    while flag:\n",
    "    toppings = input(\"Enter Pizza Toppings: \")\n",
    "    print(topping)\n",
    "    if toppings==\"exit\":\n",
    "        flag = False\n",
    "    print (name)\n",
    "    print (size)\n",
    "    print (flavour)\n",
    "    print(toppings)"
   ]
  },
  {
   "cell_type": "code",
   "execution_count": null,
   "metadata": {},
   "outputs": [],
   "source": [
    "pizza()"
   ]
  },
  {
   "cell_type": "markdown",
   "metadata": {},
   "source": [
    "# Class"
   ]
  },
  {
   "cell_type": "code",
   "execution_count": 1,
   "metadata": {},
   "outputs": [],
   "source": [
    "class Patient(): \n",
    "    #attribute   --- variable\n",
    "    #behavioyrs ----- function\n",
    "    def __init__(self,pid,pname,disease,age,gender):\n",
    "        self.pid=pid\n",
    "        self.pname=pname\n",
    "        self.disease=disease\n",
    "        self.age=age\n",
    "        self.gender=gender\n",
    "        "
   ]
  },
  {
   "cell_type": "code",
   "execution_count": 2,
   "metadata": {},
   "outputs": [],
   "source": [
    "p1=Patient(111,\"gabbar\",\"TB\",34,\"male\")"
   ]
  },
  {
   "cell_type": "code",
   "execution_count": 3,
   "metadata": {},
   "outputs": [],
   "source": [
    "p2=Patient(222,\"sambah\",\"injured\",45,\"male\")"
   ]
  },
  {
   "cell_type": "code",
   "execution_count": 4,
   "metadata": {},
   "outputs": [
    {
     "data": {
      "text/plain": [
       "34"
      ]
     },
     "execution_count": 4,
     "metadata": {},
     "output_type": "execute_result"
    }
   ],
   "source": [
    "p1.age"
   ]
  },
  {
   "cell_type": "code",
   "execution_count": 5,
   "metadata": {},
   "outputs": [
    {
     "name": "stdout",
     "output_type": "stream",
     "text": [
      "34\n"
     ]
    }
   ],
   "source": [
    "print(p1.age)"
   ]
  },
  {
   "cell_type": "code",
   "execution_count": null,
   "metadata": {},
   "outputs": [],
   "source": []
  }
 ],
 "metadata": {
  "kernelspec": {
   "display_name": "Python 3",
   "language": "python",
   "name": "python3"
  },
  "language_info": {
   "codemirror_mode": {
    "name": "ipython",
    "version": 3
   },
   "file_extension": ".py",
   "mimetype": "text/x-python",
   "name": "python",
   "nbconvert_exporter": "python",
   "pygments_lexer": "ipython3",
   "version": "3.7.3"
  }
 },
 "nbformat": 4,
 "nbformat_minor": 2
}
