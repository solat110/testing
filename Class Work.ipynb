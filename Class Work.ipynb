{
 "cells": [
  {
   "cell_type": "code",
   "execution_count": 2,
   "metadata": {},
   "outputs": [
    {
     "name": "stdout",
     "output_type": "stream",
     "text": [
      "Age batao 25\n",
      "counter se ticket lo\n",
      " Andar jao \n"
     ]
    }
   ],
   "source": [
    "#Age Restrition\n",
    "age = int(input ('Age batao '))\n",
    "\n",
    "if age >= 20:\n",
    "    print(\"counter se ticket lo\")\n",
    "  \n",
    "    if age != 20 : \n",
    "          print(' Andar jao ')\n",
    "        \n",
    "else:\n",
    "    print('Bary hokar anna ')\n",
    "    \n",
    "    "
   ]
  },
  {
   "cell_type": "code",
   "execution_count": null,
   "metadata": {},
   "outputs": [],
   "source": []
  },
  {
   "cell_type": "code",
   "execution_count": 3,
   "metadata": {},
   "outputs": [
    {
     "name": "stdout",
     "output_type": "stream",
     "text": [
      "Enter your Age 4\n",
      "Sorry Your Child is not allow for Admission in Pre-Nursury\n"
     ]
    }
   ],
   "source": [
    "#Age vise Admission Open\n",
    "age = float(input (\"Enter your Age \"))\n",
    "\n",
    "if age > 2.0 and age < 3.5:\n",
    "    print (\"Your Child is Eligible for Pre-Nursury Class\")\n",
    "else:\n",
    "    print('Sorry Your Child is not allow for Admission in Pre-Nursury')"
   ]
  },
  {
   "cell_type": "code",
   "execution_count": 7,
   "metadata": {},
   "outputs": [
    {
     "name": "stdout",
     "output_type": "stream",
     "text": [
      "1 <= 7\n",
      "2 <= 7\n",
      "3 <= 7\n",
      "4 <= 7\n",
      "5 <= 7\n",
      "6 > 5\n",
      "7 > 5\n",
      "8 > 5\n",
      "9 > 5\n",
      "10 > 5\n"
     ]
    }
   ],
   "source": [
    "a = 0\n",
    "while a < 10:\n",
    "    a = a + 1\n",
    "    if a > 5:\n",
    "        print (a,\">\",5)\n",
    "    elif a <= 7:\n",
    "        print (a,\"<=\",7)\n",
    "    else:\n",
    "        print (\"Neither test was true\")"
   ]
  },
  {
   "cell_type": "code",
   "execution_count": 14,
   "metadata": {},
   "outputs": [
    {
     "name": "stdout",
     "output_type": "stream",
     "text": [
      "1 <= 7\n",
      "2 <= 7\n",
      "3 <= 7\n",
      "4 <= 7\n",
      "5 <= 7\n",
      "6 > 5\n",
      "7 > 5\n",
      "8 > 5\n",
      "9 > 5\n",
      "10 > 5\n"
     ]
    }
   ],
   "source": [
    "b=0\n",
    "while b<10:\n",
    "    b = b+1\n",
    "    if b > 5:\n",
    "        print (b,\">\",5)\n",
    "    elif b < 7:\n",
    "        print (b,\"<=\",7)\n",
    "\n",
    "    else:\n",
    "        print(\"Test was false\")"
   ]
  },
  {
   "cell_type": "code",
   "execution_count": 16,
   "metadata": {},
   "outputs": [
    {
     "data": {
      "text/plain": [
       "['oil', 'gas', 'petrol', 'liquid', 'shampoo', 'mobile']"
      ]
     },
     "execution_count": 16,
     "metadata": {},
     "output_type": "execute_result"
    }
   ],
   "source": [
    "list = [\"oil\",\"gas\",\"petrol\",\"liquid\",\"shampoo\",\"mobile\"]\n",
    "list"
   ]
  },
  {
   "cell_type": "code",
   "execution_count": 18,
   "metadata": {},
   "outputs": [
    {
     "ename": "SyntaxError",
     "evalue": "invalid syntax (<ipython-input-18-2b6a3bb7735e>, line 1)",
     "output_type": "error",
     "traceback": [
      "\u001b[1;36m  File \u001b[1;32m\"<ipython-input-18-2b6a3bb7735e>\"\u001b[1;36m, line \u001b[1;32m1\u001b[0m\n\u001b[1;33m    del.list[2]\u001b[0m\n\u001b[1;37m       ^\u001b[0m\n\u001b[1;31mSyntaxError\u001b[0m\u001b[1;31m:\u001b[0m invalid syntax\n"
     ]
    }
   ],
   "source": [
    "del."
   ]
  },
  {
   "cell_type": "code",
   "execution_count": null,
   "metadata": {},
   "outputs": [],
   "source": []
  }
 ],
 "metadata": {
  "kernelspec": {
   "display_name": "Python 3",
   "language": "python",
   "name": "python3"
  },
  "language_info": {
   "codemirror_mode": {
    "name": "ipython",
    "version": 3
   },
   "file_extension": ".py",
   "mimetype": "text/x-python",
   "name": "python",
   "nbconvert_exporter": "python",
   "pygments_lexer": "ipython3",
   "version": "3.7.3"
  }
 },
 "nbformat": 4,
 "nbformat_minor": 2
}
