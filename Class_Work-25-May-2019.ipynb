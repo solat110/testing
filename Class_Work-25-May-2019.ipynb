{
 "cells": [
  {
   "cell_type": "code",
   "execution_count": null,
   "metadata": {},
   "outputs": [],
   "source": [
    "haveCNIC = input(\"Do you have CNIC: \")\n",
    "\n",
    "if haveCNIC == \"Yes\":\n",
    "\n",
    "    inVoterList = input(\"Are you in voter list: \")\n",
    "    if inVoterList == \"Yes\":\n",
    "        print(\"You can cast your Vote\")\n",
    "    else:\n",
    "        print(\"You Cannot Cast Your Vote\")\n",
    "else:\n",
    "    print(\"You cannpt cast your vote\")"
   ]
  },
  {
   "cell_type": "code",
   "execution_count": 3,
   "metadata": {},
   "outputs": [
    {
     "name": "stdout",
     "output_type": "stream",
     "text": [
      "Do you have a valid cnicYES\n",
      "Come Inside\n",
      "is your name in voter list?YES\n",
      "you can not cast vote\n"
     ]
    }
   ],
   "source": [
    "#Nested if conditions\n",
    "cnic_Status = input (\"Do you have a valid cnic\").lower() #Lower case .lower() and upper case .upper()\n",
    "if cnic_Status == \"yes\":\n",
    "    print(\"Come Inside\")\n",
    "    name_in_list = input(\"is your name in voter list?\")\n",
    "    if name_in_list == \"yes\":\n",
    "        print(\"you can cast vote\")\n",
    "    else:\n",
    "        print(\"you can not cast vote\")\n",
    "        \n",
    "else: print(\"you can not cast vote\")\n",
    "    "
   ]
  },
  {
   "cell_type": "code",
   "execution_count": 5,
   "metadata": {},
   "outputs": [
    {
     "name": "stdout",
     "output_type": "stream",
     "text": [
      "Do you have a valid cnicyes\n",
      "is your name in voter list?no\n",
      "you can not cast Vote\n"
     ]
    }
   ],
   "source": [
    "#using same above example with \"and operator\"\n",
    "cnic_Status = input (\"Do you have a valid cnic\").lower()\n",
    "name_in_list = input(\"is your name in voter list?\").lower()\n",
    "\n",
    "if ((cnic_Status ==\"yes\") and (name_in_list == \"yes\")):\n",
    "    print (\"You can Cast Vote\")\n",
    "    \n",
    "else:\n",
    "    print(\"you can not cast Vote\")\n"
   ]
  },
  {
   "cell_type": "code",
   "execution_count": 6,
   "metadata": {},
   "outputs": [
    {
     "name": "stdout",
     "output_type": "stream",
     "text": [
      "Enter marks 78\n",
      "your grade is B\n"
     ]
    }
   ],
   "source": [
    "#if elif else\n",
    "marks = int(input(\"Enter marks \"))\n",
    "grade = \" \"\n",
    "if marks>=90:\n",
    "    grade = \"A*\"\n",
    "elif marks>=80:\n",
    "    grade = \"A\"\n",
    "elif marks>=70:\n",
    "    grade = \"B\"\n",
    "elif marks>=60:\n",
    "    grade = \"C\"\n",
    "elif marks>=50:\n",
    "    grade = \"D\"\n",
    "elif marks<50:\n",
    "    grade = \"U\"\n",
    "else:\n",
    "    print (\"Sorry you are not passed try again\")\n",
    "    \n",
    "print (\"your grade is \" + grade)"
   ]
  },
  {
   "cell_type": "code",
   "execution_count": 4,
   "metadata": {},
   "outputs": [
    {
     "name": "stdout",
     "output_type": "stream",
     "text": [
      "enter a character r\n",
      "the character is a consonant\n"
     ]
    }
   ],
   "source": [
    "#using \"or\" operator\n",
    "char = input(\"enter a character \")\n",
    "\n",
    "if (char ==\"a\" or char==\"e\" or char==\"i\" or char==\"0\" or char==\"u\"):\n",
    "    print (\"the character is vowel\")\n",
    "    \n",
    "else:\n",
    "    print (\"the character is a consonant\")"
   ]
  },
  {
   "cell_type": "code",
   "execution_count": null,
   "metadata": {},
   "outputs": [],
   "source": [
    "#comments multiple lines then select lines and press \"cltr + /\"\n",
    "#also write three single quotation marks \n",
    "'''aadasdasdasdasdasdasd'''\n"
   ]
  },
  {
   "cell_type": "code",
   "execution_count": 5,
   "metadata": {},
   "outputs": [
    {
     "data": {
      "text/plain": [
       "4"
      ]
     },
     "execution_count": 5,
     "metadata": {},
     "output_type": "execute_result"
    }
   ],
   "source": [
    "#List\n",
    "# Assign list in single variable\n",
    "aList = [\"asad\", \"saad\",'Ali','Danish','fahad' , 'kami', 'fahad']\n",
    "len(aList)\n"
   ]
  },
  {
   "cell_type": "code",
   "execution_count": 7,
   "metadata": {},
   "outputs": [
    {
     "data": {
      "text/plain": [
       "'Ali'"
      ]
     },
     "execution_count": 7,
     "metadata": {},
     "output_type": "execute_result"
    }
   ],
   "source": [
    "aList[2]"
   ]
  },
  {
   "cell_type": "code",
   "execution_count": 11,
   "metadata": {},
   "outputs": [],
   "source": [
    "#List can hold multiple data types together\n",
    "list2 = ['apple', '123','false','123.5']\n",
    "list2.append(1009)\n",
    "list2.insert()"
   ]
  },
  {
   "cell_type": "code",
   "execution_count": null,
   "metadata": {},
   "outputs": [],
   "source": [
    "list2[0]=\"orange\""
   ]
  },
  {
   "cell_type": "code",
   "execution_count": 14,
   "metadata": {},
   "outputs": [
    {
     "name": "stdout",
     "output_type": "stream",
     "text": [
      "['apple', '123', 'false', '123.5', 1009]\n"
     ]
    }
   ],
   "source": [
    "print (list2)"
   ]
  },
  {
   "cell_type": "code",
   "execution_count": 7,
   "metadata": {},
   "outputs": [
    {
     "name": "stdout",
     "output_type": "stream",
     "text": [
      "['oranges', 'apple', 'banana', 'peach', 'banana']\n"
     ]
    }
   ],
   "source": [
    "#1-Jun-2019 Class work\n",
    "#list remove\n",
    "aList = ['oranges', 'apple', 'banana', 'peach','banana']\n",
    "print (aList)"
   ]
  },
  {
   "cell_type": "code",
   "execution_count": 8,
   "metadata": {},
   "outputs": [
    {
     "name": "stdout",
     "output_type": "stream",
     "text": [
      "['oranges', 'apple', 'banana', 'peach', 'banana']\n"
     ]
    }
   ],
   "source": [
    "print (aList)"
   ]
  },
  {
   "cell_type": "code",
   "execution_count": 9,
   "metadata": {},
   "outputs": [],
   "source": [
    "aList.remove('banana')"
   ]
  },
  {
   "cell_type": "code",
   "execution_count": 10,
   "metadata": {},
   "outputs": [
    {
     "name": "stdout",
     "output_type": "stream",
     "text": [
      "['oranges', 'apple', 'peach', 'banana']\n"
     ]
    }
   ],
   "source": [
    "print (aList)"
   ]
  },
  {
   "cell_type": "code",
   "execution_count": 11,
   "metadata": {},
   "outputs": [
    {
     "name": "stdout",
     "output_type": "stream",
     "text": [
      "[23, 4, 5, 6, 4, 56, 2, 5, 6, 9, 10, 1, 3]\n"
     ]
    }
   ],
   "source": [
    "numlist = [23,4,5,6,4,56,2,5,6,9,10,1,3]\n",
    "print (numlist)"
   ]
  },
  {
   "cell_type": "code",
   "execution_count": 13,
   "metadata": {},
   "outputs": [],
   "source": [
    "numlist.sort()"
   ]
  },
  {
   "cell_type": "code",
   "execution_count": 14,
   "metadata": {},
   "outputs": [
    {
     "name": "stdout",
     "output_type": "stream",
     "text": [
      "[1, 2, 3, 4, 4, 5, 5, 6, 6, 9, 10, 23, 56]\n"
     ]
    }
   ],
   "source": [
    "print (numlist)"
   ]
  },
  {
   "cell_type": "code",
   "execution_count": 15,
   "metadata": {},
   "outputs": [],
   "source": [
    "numlist.sort(reverse = True)"
   ]
  },
  {
   "cell_type": "code",
   "execution_count": 16,
   "metadata": {},
   "outputs": [
    {
     "data": {
      "text/plain": [
       "[56, 23, 10, 9, 6, 6, 5, 5, 4, 4, 3, 2, 1]"
      ]
     },
     "execution_count": 16,
     "metadata": {},
     "output_type": "execute_result"
    }
   ],
   "source": [
    "numlist"
   ]
  },
  {
   "cell_type": "code",
   "execution_count": 22,
   "metadata": {},
   "outputs": [
    {
     "name": "stdout",
     "output_type": "stream",
     "text": [
      "[99, 23, 56, 45, 65, 92, 91, 95]\n",
      "89\n"
     ]
    }
   ],
   "source": [
    "clist = [99,23,56,45,65,92,91,95,89]\n",
    "x = clist.pop()\n",
    "print (clist)\n",
    "print (x)"
   ]
  },
  {
   "cell_type": "code",
   "execution_count": 31,
   "metadata": {},
   "outputs": [],
   "source": [
    "dlist = [99,23,56,45,65,92,91,78,56]"
   ]
  },
  {
   "cell_type": "code",
   "execution_count": 32,
   "metadata": {},
   "outputs": [],
   "source": [
    "y = dlist.pop(2)"
   ]
  },
  {
   "cell_type": "code",
   "execution_count": 33,
   "metadata": {},
   "outputs": [
    {
     "name": "stdout",
     "output_type": "stream",
     "text": [
      "56\n",
      "[99, 23, 45, 65, 92, 91, 78, 56]\n"
     ]
    }
   ],
   "source": [
    "print (y)\n",
    "print (dlist)"
   ]
  },
  {
   "cell_type": "code",
   "execution_count": 34,
   "metadata": {},
   "outputs": [],
   "source": [
    "namelist = [\"Salman\", \"Noman\", \"Atif\", \"Aslam\", \"Saquib\",\"Nadeem\"]"
   ]
  },
  {
   "cell_type": "code",
   "execution_count": 60,
   "metadata": {},
   "outputs": [],
   "source": [
    "z = namelist.pop()"
   ]
  },
  {
   "cell_type": "code",
   "execution_count": 61,
   "metadata": {},
   "outputs": [
    {
     "name": "stdout",
     "output_type": "stream",
     "text": [
      "Salman\n"
     ]
    }
   ],
   "source": [
    "print (z)"
   ]
  },
  {
   "cell_type": "code",
   "execution_count": 62,
   "metadata": {},
   "outputs": [],
   "source": [
    "poplist = [(z)]"
   ]
  },
  {
   "cell_type": "code",
   "execution_count": 63,
   "metadata": {},
   "outputs": [
    {
     "name": "stdout",
     "output_type": "stream",
     "text": [
      "['Salman']\n"
     ]
    }
   ],
   "source": [
    "print (poplist)"
   ]
  },
  {
   "cell_type": "code",
   "execution_count": 64,
   "metadata": {},
   "outputs": [
    {
     "name": "stdout",
     "output_type": "stream",
     "text": [
      "[]\n"
     ]
    }
   ],
   "source": [
    "print (namelist)"
   ]
  },
  {
   "cell_type": "code",
   "execution_count": 80,
   "metadata": {},
   "outputs": [],
   "source": [
    "#way of Teacher for using pop and emptylist\n",
    "Nlist = [9,5,8,7,12,13,14,15,16]\n",
    "emptylist=[]"
   ]
  },
  {
   "cell_type": "code",
   "execution_count": 87,
   "metadata": {},
   "outputs": [],
   "source": [
    "emptylist.append(Nlist.pop())"
   ]
  },
  {
   "cell_type": "code",
   "execution_count": 88,
   "metadata": {},
   "outputs": [
    {
     "name": "stdout",
     "output_type": "stream",
     "text": [
      "[9, 5, 8, 7, 12]\n",
      "[16, 15, 14, 13]\n"
     ]
    }
   ],
   "source": [
    "print (Nlist)\n",
    "print (emptylist)"
   ]
  },
  {
   "cell_type": "code",
   "execution_count": 79,
   "metadata": {},
   "outputs": [
    {
     "data": {
      "text/plain": [
       "8"
      ]
     },
     "execution_count": 79,
     "metadata": {},
     "output_type": "execute_result"
    }
   ],
   "source": [
    "len(Nlist)"
   ]
  },
  {
   "cell_type": "code",
   "execution_count": 89,
   "metadata": {},
   "outputs": [],
   "source": [
    "a = [3,5,6,9,7,12,13,14,15]\n",
    "b = []"
   ]
  },
  {
   "cell_type": "code",
   "execution_count": 99,
   "metadata": {},
   "outputs": [
    {
     "name": "stdout",
     "output_type": "stream",
     "text": [
      "list is empty, now can not be popped to 'b' list\n"
     ]
    }
   ],
   "source": [
    "if len(a)!=0:\n",
    "    b.append(a.pop())\n",
    "    print (a)\n",
    "    print (b)\n",
    "else:\n",
    "    print(\"list is empty, now can not be popped to 'b' list\")"
   ]
  },
  {
   "cell_type": "code",
   "execution_count": null,
   "metadata": {},
   "outputs": [],
   "source": []
  },
  {
   "cell_type": "code",
   "execution_count": null,
   "metadata": {},
   "outputs": [],
   "source": []
  },
  {
   "cell_type": "code",
   "execution_count": null,
   "metadata": {},
   "outputs": [],
   "source": []
  },
  {
   "cell_type": "code",
   "execution_count": null,
   "metadata": {},
   "outputs": [],
   "source": []
  }
 ],
 "metadata": {
  "kernelspec": {
   "display_name": "Python 3",
   "language": "python",
   "name": "python3"
  },
  "language_info": {
   "codemirror_mode": {
    "name": "ipython",
    "version": 3
   },
   "file_extension": ".py",
   "mimetype": "text/x-python",
   "name": "python",
   "nbconvert_exporter": "python",
   "pygments_lexer": "ipython3",
   "version": "3.7.3"
  }
 },
 "nbformat": 4,
 "nbformat_minor": 2
}
