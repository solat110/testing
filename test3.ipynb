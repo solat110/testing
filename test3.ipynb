{
 "cells": [
  {
   "cell_type": "code",
   "execution_count": 2,
   "metadata": {},
   "outputs": [
    {
     "name": "stdout",
     "output_type": "stream",
     "text": [
      "content-type: text/html\n",
      "Age batao 25\n",
      "counter se ticket lo\n",
      " Andar jao \n"
     ]
    }
   ],
   "source": [
    "print (\"content-type: text/html\")\n",
    "\n",
    "#Age Restrition\n",
    "age = int(input ('Age batao '))\n",
    "\n",
    "if age >= 20:\n",
    "    print(\"counter se ticket lo\")\n",
    "  \n",
    "    if age != 20 : \n",
    "          print(' Andar jao ')\n",
    "        \n",
    "else:\n",
    "    print('Bary hokar anna ')"
   ]
  },
  {
   "cell_type": "code",
   "execution_count": null,
   "metadata": {},
   "outputs": [],
   "source": []
  }
 ],
 "metadata": {
  "kernelspec": {
   "display_name": "Python 3",
   "language": "python",
   "name": "python3"
  },
  "language_info": {
   "codemirror_mode": {
    "name": "ipython",
    "version": 3
   },
   "file_extension": ".py",
   "mimetype": "text/x-python",
   "name": "python",
   "nbconvert_exporter": "python",
   "pygments_lexer": "ipython3",
   "version": "3.7.3"
  }
 },
 "nbformat": 4,
 "nbformat_minor": 2
}
