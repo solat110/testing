{
 "cells": [
  {
   "cell_type": "code",
   "execution_count": 7,
   "metadata": {},
   "outputs": [
    {
     "name": "stdout",
     "output_type": "stream",
     "text": [
      "1\n",
      "2\n",
      "4\n",
      "5\n",
      "7\n",
      "8\n",
      "10\n"
     ]
    }
   ],
   "source": [
    "for i in range(1,10+1,1):\n",
    "    if i%3==0:\n",
    "        continue\n",
    "    print(i)"
   ]
  },
  {
   "cell_type": "code",
   "execution_count": 23,
   "metadata": {},
   "outputs": [
    {
     "name": "stdout",
     "output_type": "stream",
     "text": [
      "Enter How many candies you want? 50\n",
      "candies\n",
      "candies\n",
      "candies\n",
      "candies\n",
      "candies\n",
      "candies\n",
      "candies\n",
      "candies\n",
      "candies\n",
      "candies\n",
      "bye\n"
     ]
    }
   ],
   "source": [
    "av = 10  #available candies\n",
    "x = int(input(\"Enter How many candies you want? \"))\n",
    "i=1\n",
    "while i <= x:\n",
    "    \n",
    "    if i>av:\n",
    "        break\n",
    "\n",
    "    print(\"candies\")\n",
    "    i+=1\n",
    "    \n",
    "\n",
    "print(\"bye\")\n"
   ]
  },
  {
   "cell_type": "code",
   "execution_count": null,
   "metadata": {},
   "outputs": [],
   "source": []
  }
 ],
 "metadata": {
  "kernelspec": {
   "display_name": "Python 3",
   "language": "python",
   "name": "python3"
  },
  "language_info": {
   "codemirror_mode": {
    "name": "ipython",
    "version": 3
   },
   "file_extension": ".py",
   "mimetype": "text/x-python",
   "name": "python",
   "nbconvert_exporter": "python",
   "pygments_lexer": "ipython3",
   "version": "3.7.3"
  }
 },
 "nbformat": 4,
 "nbformat_minor": 2
}
