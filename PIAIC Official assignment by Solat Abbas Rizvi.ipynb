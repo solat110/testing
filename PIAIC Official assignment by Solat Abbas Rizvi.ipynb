{
 "cells": [
  {
   "cell_type": "markdown",
   "metadata": {},
   "source": [
    "## 1. Calculate Area of a Circle"
   ]
  },
  {
   "cell_type": "markdown",
   "metadata": {},
   "source": [
    "#### Write a Python program which accepts the radius of a circle from the user and compute the area.\n",
    "###### Program Console Sample Output 1:\n",
    "###### Input Radius: 0.5\n",
    "###### Area of Circle with radius 0.5 is 0.7853981634"
   ]
  },
  {
   "cell_type": "code",
   "execution_count": 9,
   "metadata": {},
   "outputs": [
    {
     "name": "stdout",
     "output_type": "stream",
     "text": [
      "Input Radius: 0.5\n",
      "Area of Circle with radius 0.5 is 0.785\n"
     ]
    }
   ],
   "source": [
    "radius = float(input(\"Input Radius: \"))\n",
    "pi = (3.14)\n",
    "area = pi * radius * radius\n",
    "print (\"Area of Circle with radius \" + str(radius)+ \" is \" + str(area))"
   ]
  },
  {
   "cell_type": "markdown",
   "metadata": {},
   "source": [
    "## 2. Check Number either positive, negative or zero"
   ]
  },
  {
   "cell_type": "markdown",
   "metadata": {},
   "source": [
    "#### Write a Python program to check if a number is positive, negative or zero\n",
    "###### Program Console Sample Output 1:\n",
    "###### Enter Number: -1\n",
    "##### Negative Number Entered\n",
    "###### Program Console Sample Output 2:\n",
    "##### Integer: 3\n",
    "##### Positive Number Entered\n",
    "###### Program Console Sample Output 3:\n",
    "##### Integer: 0\n",
    "###### Zero Entered"
   ]
  },
  {
   "cell_type": "code",
   "execution_count": 5,
   "metadata": {},
   "outputs": [
    {
     "name": "stdout",
     "output_type": "stream",
     "text": [
      "Enter Number: 0\n",
      "Zero Entered\n"
     ]
    }
   ],
   "source": [
    "num = int(input(\"Enter Number: \"))\n",
    "if num < 0:\n",
    "    print (\"Negative Number Entered\")\n",
    "if num ==0:\n",
    "    print (\"Zero Entered\")\n",
    "if num >0:\n",
    "    print(\"Positive Number Entered\")"
   ]
  },
  {
   "cell_type": "markdown",
   "metadata": {},
   "source": [
    "## 3. Divisibility Check of two numbers"
   ]
  },
  {
   "cell_type": "markdown",
   "metadata": {},
   "source": [
    "#### Write a Python program to check whether a number is completely divisible by another number. Accept two integer values form the user\n",
    "##### Program Console Sample Output 1:\n",
    "###### Enter numerator: 4\n",
    "###### Enter Denominator: 2\n",
    "##### Number 4 is Completely divisible by 2\n",
    "###### Program Console Sample Output 2:\n",
    "##### Enter numerator: 7\n",
    "\n",
    "##### Enter Denominator: 4\n",
    "###### Number 7 is not Completely divisible by 4"
   ]
  },
  {
   "cell_type": "code",
   "execution_count": 35,
   "metadata": {},
   "outputs": [
    {
     "name": "stdout",
     "output_type": "stream",
     "text": [
      "Enter Numerator: 999999\n",
      "Enter Denominator: 99\n",
      "Number 999999 is Completely divisible by 99\n"
     ]
    }
   ],
   "source": [
    "num1 = int(input(\"Enter Numerator: \"))\n",
    "num2 = int(input(\"Enter Denominator: \"))\n",
    "result = num1%num2\n",
    "if result==0:\n",
    "    print(\"Number \" + str(num1) + \" is Completely divisible by \" + str(num2))\n",
    "else:\n",
    "    print (\"Number \" + str(num1) + \" is not Completely divisible by \" + str(num2))"
   ]
  },
  {
   "cell_type": "markdown",
   "metadata": {},
   "source": [
    "## 4. Calculate Volume of a sphere"
   ]
  },
  {
   "cell_type": "markdown",
   "metadata": {},
   "source": [
    "##### Write a Python program to get the volume of a sphere, please take the radius as input from user"
   ]
  },
  {
   "cell_type": "markdown",
   "metadata": {},
   "source": [
    "##### Program Console Output:\n",
    "##### Enter Radius of Sphere: 1\n",
    "###### Volume of the Sphere with Radius 1 is 4.18"
   ]
  },
  {
   "cell_type": "code",
   "execution_count": 1,
   "metadata": {},
   "outputs": [
    {
     "name": "stdout",
     "output_type": "stream",
     "text": [
      "Enter Radius of Sphere: 1\n",
      "Volume of the Sphere with Radius 1 is 4\n"
     ]
    }
   ],
   "source": [
    "#V=4/3 pi * r cube\n",
    "radius = int(input(\"Enter Radius of Sphere: \"))\n",
    "pi = 3.14\n",
    "volume = (4/3 * pi * radius*radius*radius)\n",
    "print (\"Volume of the Sphere with Radius \" + str(radius) + \" is \"+ \"{:.2f}\".format(volume))\n"
   ]
  },
  {
   "cell_type": "markdown",
   "metadata": {},
   "source": [
    "## 5. Copy string n times\n",
    "#### Write a Python program to get a string which is n (non-negative integer) copies of a given string.\n",
    "##### Program Console Output:\n",
    "##### Enter String: Hi\n",
    "###### How many copies of String you need: 4\n",
    "###### 4 Copies of Hi are HiHiHiHi"
   ]
  },
  {
   "cell_type": "code",
   "execution_count": 64,
   "metadata": {},
   "outputs": [
    {
     "name": "stdout",
     "output_type": "stream",
     "text": [
      "Enter String: Hi\n",
      "How many copyies of String you need: 4\n",
      "4 Copies of Hi are HiHiHiHi\n"
     ]
    }
   ],
   "source": [
    "string1= (input(\"Enter String: \"))\n",
    "copy=int(input(\"How many copyies of String you need: \"))\n",
    "print(str(copy) +\" Copies of \"+ str(string1) + \" are \" + str(string1*copy))"
   ]
  },
  {
   "cell_type": "markdown",
   "metadata": {},
   "source": [
    "## 6. Check if number is Even or Odd\n",
    "### Write a Python program to find whether a given number (accept from the user) is even or odd, print out an appropriate message to the user\n",
    "#### Program Console Output 1:\n",
    "##### Enter Number: 4\n",
    "###### 4 is Even\n",
    "#### Program Console Output 2:\n",
    "##### Enter Number: 9\n",
    "###### 9 is Odd"
   ]
  },
  {
   "cell_type": "code",
   "execution_count": 67,
   "metadata": {},
   "outputs": [
    {
     "name": "stdout",
     "output_type": "stream",
     "text": [
      "Enter Number: 6\n",
      "6 is Even\n"
     ]
    }
   ],
   "source": [
    "check_num=int(input(\"Enter Number: \"))\n",
    "if check_num%2==0:\n",
    "    print(str(check_num) + \" is Even\")\n",
    "else:\n",
    "    print(str(check_num) + \" is Odd\")"
   ]
  },
  {
   "cell_type": "markdown",
   "metadata": {},
   "source": [
    "## 7. Vowel Tester\n",
    "### Write a Python program to test whether a passed letter is a vowel or not\n",
    "#### Program Console Output 1:\n",
    "##### Enter a character: A\n",
    "###### Letter A is Vowel\n",
    "#### Program Console Output 2:\n",
    "##### Enter a character: e\n",
    "###### Letter e is Vowel\n",
    "#### Program Console Output 2:\n",
    "##### Enter a character: N\n",
    "###### Letter N is not Vowel"
   ]
  },
  {
   "cell_type": "code",
   "execution_count": 76,
   "metadata": {},
   "outputs": [
    {
     "name": "stdout",
     "output_type": "stream",
     "text": [
      "Enter a character: e\n",
      "Letter e is Vowel\n"
     ]
    }
   ],
   "source": [
    "check_vowel=(input(\"Enter a character: \"))\n",
    "ch=check_vowel.upper()\n",
    "if (ch==\"A\" or ch==\"E\" or ch==\"I\" or ch==\"O\" or ch==\"U\"):\n",
    "    print(\"Letter \" + str(check_vowel) + ' is Vowel')\n",
    "else:\n",
    "    print(\"Letter \" + str(check_vowel) + \" is not Vowel\")"
   ]
  },
  {
   "cell_type": "markdown",
   "metadata": {},
   "source": [
    "## 8. Triangle area\n",
    "### Write a Python program that will accept the base and height of a triangle and compute the area\n",
    "###### Reference:\n",
    "https://www.mathgoodies.com/lessons/vol1/area_triangle"
   ]
  },
  {
   "cell_type": "code",
   "execution_count": 80,
   "metadata": {},
   "outputs": [
    {
     "name": "stdout",
     "output_type": "stream",
     "text": [
      "Enter Base of a Triangle: 40\n",
      "Enter height of a Triangle: 80\n",
      "The Area of a Triangle is: 1600.0\n"
     ]
    }
   ],
   "source": [
    "base = int(input(\"Enter Base of a Triangle: \"))\n",
    "height = int(input(\"Enter height of a Triangle: \"))\n",
    "area = (int(base*height)/2)\n",
    "print(\"The Area of a Triangle is: \" + str(area))\n"
   ]
  },
  {
   "cell_type": "markdown",
   "metadata": {},
   "source": [
    "## 9. Calculate Interest\n",
    "### Write a Python program to compute the future value of a specified principal amount, rate of interest, and a number of years\n",
    "#### Program Console Sample 1:\n",
    "##### Please enter principal amount: 10000\n",
    "###### Please Enter Rate of interest in %: 0.1\n",
    "###### Enter number of years for investment: 5\n",
    "###### After 5 years your principal amount 10000 over an interest rate of 0.1 % will be 16105.1"
   ]
  },
  {
   "cell_type": "code",
   "execution_count": 98,
   "metadata": {},
   "outputs": [
    {
     "name": "stdout",
     "output_type": "stream",
     "text": [
      "Please Enter Principal amount: 10000\n",
      "Please Enter Rate if Interest in %: 0.1\n",
      "Enter Number of Years for Investment: 5\n",
      "After 5 years your principal amount 10000 over an interest rate of 0.1 % will be 16105.1\n"
     ]
    }
   ],
   "source": [
    "pv = int(input(\"Please Enter Principal amount: \"))\n",
    "i=float(input(\"Please Enter Rate if Interest in %: \"))\n",
    "t=int(input(\"Enter Number of Years for Investment: \"))\n",
    "fv=(pv*(1+i)**t)\n",
    "print (\"After \" + str(t)+ \" years your principal amount \" + str(pv) + \" over an interest rate of \" + str(i) + \" % will be \" + \"{:.1f}\".format(fv))"
   ]
  },
  {
   "cell_type": "markdown",
   "metadata": {},
   "source": [
    "## 10. Euclidean distance\n",
    "### write a Python program to compute the distance between the points (x1, y1) and (x2, y2).\n",
    "#### Program Console Sample 1:\n",
    "###### Enter Co-ordinate for x1: 2\n",
    "###### Enter Co-ordinate for x2: 4\n",
    "###### Enter Co-ordinate for y1: 4\n",
    "###### Enter Co-ordinate for y2: 4\n",
    "###### Distance between points (2, 4) and (4, 4) is 2"
   ]
  },
  {
   "cell_type": "markdown",
   "metadata": {},
   "source": [
    "###### Reference:\n",
    "https://en.wikipedia.org/wiki/Euclidean_distance"
   ]
  },
  {
   "cell_type": "code",
   "execution_count": 5,
   "metadata": {},
   "outputs": [
    {
     "name": "stdout",
     "output_type": "stream",
     "text": [
      "Enter Co-ordinate for x1: 4\n",
      "Enter Co-ordinate for x2: 5\n",
      "Enter Co-ordinate for y1: 6\n",
      "Enter Co-ordinate for y2: 7\n",
      "Distance between points (4,5) and (6,7) is 1\n"
     ]
    }
   ],
   "source": [
    "x1 = int(input(\"Enter Co-ordinate for x1: \"))\n",
    "x2 = int(input(\"Enter Co-ordinate for x2: \"))\n",
    "y1 = int(input(\"Enter Co-ordinate for y1: \"))\n",
    "y2 = int(input(\"Enter Co-ordinate for y2: \"))\n",
    "calc=int(((x1-x2)**2 + (y1-y2)**2)**(1/2))\n",
    "print(f\"Distance between points ({x1},{x2}) and ({y1},{y2}) is {calc}\")"
   ]
  },
  {
   "cell_type": "markdown",
   "metadata": {},
   "source": [
    "## 11. Feet to Centimeter Converter\n",
    "### Write a Python program to convert height in feet to centimetres.\n",
    "##### Program Console Sample 1:\n",
    "###### Enter Height in Feet: 5\n",
    "###### There are 152.4 Cm in 5 ft\n",
    "###### Reference:\n",
    "https://www.rapidtables.com/convert/length/feet-to-cm.html"
   ]
  },
  {
   "cell_type": "code",
   "execution_count": 11,
   "metadata": {},
   "outputs": [
    {
     "name": "stdout",
     "output_type": "stream",
     "text": [
      "Enter Height in Feet: 5.8\n",
      "There are 176.784 Cm in 5.8ft\n"
     ]
    }
   ],
   "source": [
    "height=float(input(\"Enter Height in Feet: \"))\n",
    "convert= height*30.48\n",
    "print(f\"There are {convert} Cm in {height}ft\")"
   ]
  },
  {
   "cell_type": "markdown",
   "metadata": {},
   "source": [
    "## 12. BMI Calculator\n",
    "### Write a Python program to calculate body mass index\n",
    "##### Program Console Sample 1:\n",
    "###### Enter Height in Cm: 180\n",
    "###### Enter Weight in Kg: 75\n",
    "###### Your BMI is 23.15"
   ]
  },
  {
   "cell_type": "code",
   "execution_count": 12,
   "metadata": {},
   "outputs": [
    {
     "name": "stdout",
     "output_type": "stream",
     "text": [
      "Enter Height in Cm: 176\n",
      "Enter Weight in KG: 70\n",
      "Your BMI is 22.598140495867767\n"
     ]
    }
   ],
   "source": [
    "body_h=int(input(\"Enter Height in Cm: \"))\n",
    "body_w=int(input(\"Enter Weight in KG: \"))\n",
    "calc_bmi=(body_w/(body_h**2))*(100**2)\n",
    "print(f\"Your BMI is {calc_bmi}\")"
   ]
  },
  {
   "cell_type": "markdown",
   "metadata": {},
   "source": [
    "## 13. Sum of n Positive Integers\n",
    "### Write a python program to sum of the first n positive integers\n",
    "#### Program Console Sample 1:\n",
    "###### Enter value of n: 5\n",
    "###### Sum of n Positive integers till 5 is 15"
   ]
  },
  {
   "cell_type": "code",
   "execution_count": 18,
   "metadata": {},
   "outputs": [
    {
     "name": "stdout",
     "output_type": "stream",
     "text": [
      "Enter value of n: 5\n",
      "Sum of n Positive integers till 5 is 15\n"
     ]
    }
   ],
   "source": [
    "value_n=int(input(\"Enter value of n: \"))\n",
    "a=0\n",
    "for i in range(1,value_n+1):\n",
    "    a=a+i\n",
    "print (f\"Sum of n Positive integers till {value_n} is {a}\")"
   ]
  },
  {
   "cell_type": "markdown",
   "metadata": {},
   "source": [
    "## 14. Digits Sum of a Number\n",
    "### Write a Python program to calculate the sum of the digits in an integer\n",
    "#### Program Console Sample 1:\n",
    "##### Enter a number: 15\n",
    "###### Sum of 1 + 5 is 6\n",
    "#### Program Console Sample 2:\n",
    "##### Enter a number: 1234\n",
    "###### Sum of 1 + 2 + 3 + 4 is 10"
   ]
  },
  {
   "cell_type": "code",
   "execution_count": 30,
   "metadata": {},
   "outputs": [
    {
     "name": "stdout",
     "output_type": "stream",
     "text": [
      "Enter a number: 99999\n",
      "Sum of  9 + 9 + 9 + 9 + 9 = 45\n"
     ]
    }
   ],
   "source": [
    "num = int(input(\"Enter a number: \"))\n",
    "sum = 0\n",
    "list_num = []\n",
    "while num > 0:\n",
    "    d = num%10\n",
    "    num = num//10\n",
    "    sum += d\n",
    "    list_num.append(int(d))\n",
    "    \n",
    "print(\"Sum of \",end='')  \n",
    "\n",
    "for n in range(len(list_num)-1,-1,-1):\n",
    "    print(f\" {list_num[n]} \", end='')\n",
    "    if n>0:\n",
    "        print(\"+\",end='')\n",
    "print(f\"= {sum}\")"
   ]
  }
 ],
 "metadata": {
  "kernelspec": {
   "display_name": "Python 3",
   "language": "python",
   "name": "python3"
  },
  "language_info": {
   "codemirror_mode": {
    "name": "ipython",
    "version": 3
   },
   "file_extension": ".py",
   "mimetype": "text/x-python",
   "name": "python",
   "nbconvert_exporter": "python",
   "pygments_lexer": "ipython3",
   "version": "3.7.3"
  }
 },
 "nbformat": 4,
 "nbformat_minor": 2
}
