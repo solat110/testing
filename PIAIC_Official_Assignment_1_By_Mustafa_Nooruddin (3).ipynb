{
 "cells": [
  {
   "cell_type": "markdown",
   "metadata": {
    "colab_type": "text",
    "id": "kMgaywtXmgVE"
   },
   "source": [
    "## 1. Calculate Area of a Circle"
   ]
  },
  {
   "cell_type": "markdown",
   "metadata": {
    "colab_type": "text",
    "id": "yKkX5Ts3mgVG"
   },
   "source": [
    "#### Write a Python program which accepts the radius of a circle from the user and compute the area.\n",
    "###### Program Console Sample Output 1:\n",
    "###### Input Radius: 0.5\n",
    "###### Area of Circle with radius 0.5 is 0.7853981634"
   ]
  },
  {
   "cell_type": "code",
   "execution_count": 36,
   "metadata": {
    "colab": {
     "base_uri": "https://localhost:8080/",
     "height": 51
    },
    "colab_type": "code",
    "id": "gk1LjZXbmgVH",
    "outputId": "91ee2838-7f06-46d1-fedb-c164e1fb5620"
   },
   "outputs": [
    {
     "name": "stdout",
     "output_type": "stream",
     "text": [
      "Enter radius in cms: 9\n",
      "Area of circle with radius 9.0 is 254.469cm2\n"
     ]
    }
   ],
   "source": [
    "radius = float(input(\"Enter radius in cms: \"))\n",
    "import math\n",
    "Area = math.pi * radius**2\n",
    "print(f\"Area of circle with radius {radius} is {round(Area,3)}cm2\")"
   ]
  },
  {
   "cell_type": "markdown",
   "metadata": {
    "colab_type": "text",
    "id": "eQ-9onYDmgVT"
   },
   "source": [
    "## 2. Check Number either positive, negative or zero"
   ]
  },
  {
   "cell_type": "markdown",
   "metadata": {
    "colab_type": "text",
    "id": "UbRqO9JFmgVU"
   },
   "source": [
    "#### Write a Python program to check if a number is positive, negative or zero\n",
    "###### Program Console Sample Output 1:\n",
    "###### Enter Number: -1\n",
    "##### Negative Number Entered\n",
    "###### Program Console Sample Output 2:\n",
    "##### Integer: 3\n",
    "##### Positive Number Entered\n",
    "###### Program Console Sample Output 3:\n",
    "##### Integer: 0\n",
    "###### Zero Entered"
   ]
  },
  {
   "cell_type": "code",
   "execution_count": 0,
   "metadata": {
    "colab": {
     "base_uri": "https://localhost:8080/",
     "height": 51
    },
    "colab_type": "code",
    "id": "ubQTkgfXmgVW",
    "outputId": "d5404edc-8975-430d-a514-61e1f0620d7e"
   },
   "outputs": [
    {
     "name": "stdout",
     "output_type": "stream",
     "text": [
      "Integer: 5\n",
      "Positive Number \n"
     ]
    }
   ],
   "source": [
    "num=int(input(\"Integer: \"))\n",
    "if num>0:\n",
    "    print(\"Positive Number \")\n",
    "elif num<0:\n",
    "    print(\"Negative Number\")\n",
    "elif num==0:\n",
    "    print(\"Zero\")\n",
    "else:\n",
    "    print(\"Wrong entry\")"
   ]
  },
  {
   "cell_type": "markdown",
   "metadata": {
    "colab_type": "text",
    "id": "-V8YZnT-mgVd"
   },
   "source": [
    "## 3. Divisibility Check of two numbers"
   ]
  },
  {
   "cell_type": "markdown",
   "metadata": {
    "colab_type": "text",
    "id": "AHcUOt0pmgVe"
   },
   "source": [
    "#### Write a Python program to check whether a number is completely divisible by another number. Accept two integer values form the user\n",
    "##### Program Console Sample Output 1:\n",
    "###### Enter numerator: 4\n",
    "###### Enter Denominator: 2\n",
    "##### Number 4 is Completely divisible by 2\n",
    "###### Program Console Sample Output 2:\n",
    "##### Enter numerator: 7\n",
    "\n",
    "##### Enter Denominator: 4\n",
    "###### Number 7 is not Completely divisible by 4"
   ]
  },
  {
   "cell_type": "code",
   "execution_count": 0,
   "metadata": {
    "colab": {
     "base_uri": "https://localhost:8080/",
     "height": 68
    },
    "colab_type": "code",
    "id": "XKckkC-qmgVg",
    "outputId": "4b90db8c-324f-4321-95a0-d32eeb4b1b2f"
   },
   "outputs": [
    {
     "name": "stdout",
     "output_type": "stream",
     "text": [
      "Enter numerator :8\n",
      "Enter denominator :3\n",
      " 8 is not perfectly divisible by 3\n"
     ]
    }
   ],
   "source": [
    "num=int(input(\"Enter numerator :\"))\n",
    "den=int(input(\"Enter denominator :\"))\n",
    "if num%den==0:\n",
    "    print(f\"Number {num} is perfectly divisible by {den}\")\n",
    "else:\n",
    "    print(f\" {num} is not perfectly divisible by {den}\")"
   ]
  },
  {
   "cell_type": "markdown",
   "metadata": {
    "colab_type": "text",
    "id": "8xVjpIWamgVn"
   },
   "source": [
    "## 4. Calculate Volume of a sphere"
   ]
  },
  {
   "cell_type": "markdown",
   "metadata": {
    "colab_type": "text",
    "id": "HdP8gDDvmgVo"
   },
   "source": [
    "##### Write a Python program to get the volume of a sphere, please take the radius as input from user"
   ]
  },
  {
   "cell_type": "markdown",
   "metadata": {
    "colab_type": "text",
    "id": "J4zIxaMCmgVq"
   },
   "source": [
    "##### Program Console Output:\n",
    "##### Enter Radius of Sphere: 1\n",
    "###### Volume of the Sphere with Radius 1 is 4.18"
   ]
  },
  {
   "cell_type": "code",
   "execution_count": 37,
   "metadata": {
    "colab": {
     "base_uri": "https://localhost:8080/",
     "height": 51
    },
    "colab_type": "code",
    "id": "rknHyn1gmgVr",
    "outputId": "cb175151-4d7e-496d-d192-33a63f71f89b"
   },
   "outputs": [
    {
     "name": "stdout",
     "output_type": "stream",
     "text": [
      "Enter radius in cms: 87\n",
      "Volume of circle with radius 87.0 is 2758330.916cm3\n"
     ]
    }
   ],
   "source": [
    "rad= float(input(\"Enter radius in cms: \"))\n",
    "import math\n",
    "vol = (4/3) * math.pi * rad**3\n",
    "print(f\"Volume of circle with radius {rad} is {round(vol,3)}cm3\")"
   ]
  },
  {
   "cell_type": "markdown",
   "metadata": {
    "colab_type": "text",
    "id": "s9f3bdsdmgVz"
   },
   "source": [
    "## 5. Copy string n times\n",
    "#### Write a Python program to get a string which is n (non-negative integer) copies of a given string.\n",
    "##### Program Console Output:\n",
    "##### Enter String: Hi\n",
    "###### How many copies of String you need: 4\n",
    "###### 4 Copies of Hi are HiHiHiHi"
   ]
  },
  {
   "cell_type": "code",
   "execution_count": 0,
   "metadata": {
    "colab": {
     "base_uri": "https://localhost:8080/",
     "height": 68
    },
    "colab_type": "code",
    "id": "pwfWXl80mgV1",
    "outputId": "a190a7d0-8d32-4202-d127-478fcf06cd9e"
   },
   "outputs": [
    {
     "name": "stdout",
     "output_type": "stream",
     "text": [
      "Enter string: me\n",
      "How many copies of string required?:9\n",
      "mememememememememe"
     ]
    }
   ],
   "source": [
    "say=input(\"Enter string: \")\n",
    "loop=int(input(\"How many copies of string required?:\"))\n",
    "for i in range (0,loop):\n",
    "    print(say,end=\"\")"
   ]
  },
  {
   "cell_type": "markdown",
   "metadata": {
    "colab_type": "text",
    "id": "TB83baoymgV8"
   },
   "source": [
    "## 6. Check if number is Even or Odd\n",
    "### Write a Python program to find whether a given number (accept from the user) is even or odd, print out an appropriate message to the user\n",
    "#### Program Console Output 1:\n",
    "##### Enter Number: 4\n",
    "###### 4 is Even\n",
    "#### Program Console Output 2:\n",
    "##### Enter Number: 9\n",
    "###### 9 is Odd"
   ]
  },
  {
   "cell_type": "code",
   "execution_count": 0,
   "metadata": {
    "colab": {
     "base_uri": "https://localhost:8080/",
     "height": 51
    },
    "colab_type": "code",
    "id": "yfCJA3bFmgV-",
    "outputId": "ef7d10c7-d172-4e2d-ef54-505fba4d3856"
   },
   "outputs": [
    {
     "name": "stdout",
     "output_type": "stream",
     "text": [
      "Enter number: 90\n",
      "90 is an even number\n"
     ]
    }
   ],
   "source": [
    "integer=int(input(\"Enter number: \"))\n",
    "if integer%2==0:\n",
    "    print(f\"{integer} is an even number\")\n",
    "else:\n",
    "    print(f\"{integer} is an odd number\")"
   ]
  },
  {
   "cell_type": "markdown",
   "metadata": {
    "colab_type": "text",
    "id": "CrzSubt5mgWJ"
   },
   "source": [
    "## 7. Vowel Tester\n",
    "### Write a Python program to test whether a passed letter is a vowel or not\n",
    "#### Program Console Output 1:\n",
    "##### Enter a character: A\n",
    "###### Letter A is Vowel\n",
    "#### Program Console Output 2:\n",
    "##### Enter a character: e\n",
    "###### Letter e is Vowel\n",
    "#### Program Console Output 2:\n",
    "##### Enter a character: N\n",
    "###### Letter N is not Vowel"
   ]
  },
  {
   "cell_type": "code",
   "execution_count": 42,
   "metadata": {
    "colab": {
     "base_uri": "https://localhost:8080/",
     "height": 51
    },
    "colab_type": "code",
    "id": "0udECMlvmgWL",
    "outputId": "1bbcd601-1c61-4af4-cc09-7ee6d2bb7d88"
   },
   "outputs": [
    {
     "name": "stdout",
     "output_type": "stream",
     "text": [
      "Enter a character: a\n",
      "a is a Vowel\n"
     ]
    }
   ],
   "source": [
    "ch=input(\"Enter a character: \")\n",
    "if (ch=='A' or ch=='a' or ch=='E' or ch =='e' or ch=='I'\n",
    " or ch=='i' or ch=='O' or ch=='o' or ch=='U' or ch=='u'):\n",
    "    print(ch, \"is a Vowel\")\n",
    "else:\n",
    "    print(f\"Letter {ch} is not vowel\")"
   ]
  },
  {
   "cell_type": "markdown",
   "metadata": {
    "colab_type": "text",
    "id": "1TSdDTsQmgWR"
   },
   "source": [
    "## 8. Triangle area\n",
    "### Write a Python program that will accept the base and height of a triangle and compute the area\n",
    "###### Reference:\n",
    "https://www.mathgoodies.com/lessons/vol1/area_triangle"
   ]
  },
  {
   "cell_type": "code",
   "execution_count": 43,
   "metadata": {
    "colab": {
     "base_uri": "https://localhost:8080/",
     "height": 68
    },
    "colab_type": "code",
    "id": "cOIQDK6gmgWT",
    "outputId": "87093609-50ba-4b25-b590-3eb39cacc84e"
   },
   "outputs": [
    {
     "name": "stdout",
     "output_type": "stream",
     "text": [
      "Enter the length of the base of triangle in cms: 89873\n",
      "Enter the length of the height of triangle in cms: 878\n",
      "Area of triangle is: 39454247.0cm2\n"
     ]
    }
   ],
   "source": [
    "base=float(input(\"Enter the length of the base of triangle in cms: \"))\n",
    "height=float(input(\"Enter the length of the height of triangle in cms: \"))\n",
    "area=(base*height)/2\n",
    "print(f\"Area of triangle is: {round(area,a)}cm2\")"
   ]
  },
  {
   "cell_type": "markdown",
   "metadata": {
    "colab_type": "text",
    "id": "wfwXmCVJmgWX"
   },
   "source": [
    "## 9. Calculate Interest\n",
    "### Write a Python program to compute the future value of a specified principal amount, rate of interest, and a number of years\n",
    "#### Program Console Sample 1:\n",
    "##### Please enter principal amount: 10000\n",
    "###### Please Enter Rate of interest in %: 0.1\n",
    "###### Enter number of years for investment: 5\n",
    "###### After 5 years your principal amount 10000 over an interest rate of 0.1 % will be 16105.1"
   ]
  },
  {
   "cell_type": "code",
   "execution_count": 2,
   "metadata": {
    "colab": {
     "base_uri": "https://localhost:8080/",
     "height": 85
    },
    "colab_type": "code",
    "id": "94C8JOzXmgWY",
    "outputId": "c880a51d-1302-4fe3-b729-86b92e88649d"
   },
   "outputs": [
    {
     "name": "stdout",
     "output_type": "stream",
     "text": [
      "Enter the  principal amount: 90000\n",
      "Enter the rate of interest in %: 0.2\n",
      "Number of years for investment: 5\n",
      "After 5.0 years your principal amount 90000.0 over an interest rate of 0.2 % will be  Rs.223949/-\n"
     ]
    }
   ],
   "source": [
    "prin= float(input(\"Enter the  principal amount: \"))\n",
    "interest = float(input(\"Enter the rate of interest in %: \"))\n",
    "time = float(input(\"Number of years for investment: \"))\n",
    "val = prin*(1+interest)**time\n",
    "print(f\"After {time} years your principal amount {prin} over an interest rate of {interest} % will be  Rs.{round(val,2)}/-\")"
   ]
  },
  {
   "cell_type": "markdown",
   "metadata": {
    "colab_type": "text",
    "id": "PxU_ef1HmgWd"
   },
   "source": [
    "## 10. Euclidean distance\n",
    "### write a Python program to compute the distance between the points (x1, y1) and (x2, y2).\n",
    "#### Program Console Sample 1:\n",
    "###### Enter Co-ordinate for x1: 2\n",
    "###### Enter Co-ordinate for x2: 4\n",
    "###### Enter Co-ordinate for y1: 4\n",
    "###### Enter Co-ordinate for y2: 4\n",
    "###### Distance between points (2, 4) and (4, 4) is 2"
   ]
  },
  {
   "cell_type": "markdown",
   "metadata": {
    "colab_type": "text",
    "id": "iqRNIepGmgWe"
   },
   "source": [
    "###### Reference:\n",
    "https://en.wikipedia.org/wiki/Euclidean_distance"
   ]
  },
  {
   "cell_type": "code",
   "execution_count": 3,
   "metadata": {
    "colab": {
     "base_uri": "https://localhost:8080/",
     "height": 102
    },
    "colab_type": "code",
    "id": "iBBeoi-vmgWg",
    "outputId": "90b91099-9b2e-4a86-eb79-4d8cf255ee8a"
   },
   "outputs": [
    {
     "name": "stdout",
     "output_type": "stream",
     "text": [
      "Enter co-ordinate for starting x point(m): 9\n",
      "Enter Co-ordinate for final (m): 10\n",
      "Enter Co-ordinate for starting  y1(m): 92\n",
      "Enter Co-ordinate for final y2(m): 91\n",
      "Distance between co-ordinates (9, 10) and (92, 91) is 1\n"
     ]
    }
   ],
   "source": [
    "x1=int(input(\"Enter co-ordinate for starting x point(m): \"))\n",
    "x2=int(input(\"Enter Co-ordinate for final (m): \"))\n",
    "y1=int(input(\"Enter Co-ordinate for starting  y1(m): \"))\n",
    "y2=int(input(\"Enter Co-ordinate for final y2(m): \"))\n",
    "dist=int(((x2-x1)**2 + (y2-y1)**2)**(1/2))\n",
    "print(f\"Distance between co-ordinates ({x1}, {x2}) and ({y1}, {y2}) is {dist}\")"
   ]
  },
  {
   "cell_type": "markdown",
   "metadata": {
    "colab_type": "text",
    "id": "DXvWyQ1jmgWm"
   },
   "source": [
    "## 11. Feet to Centimeter Converter\n",
    "### Write a Python program to convert height in feet to centimetres.\n",
    "##### Program Console Sample 1:\n",
    "###### Enter Height in Feet: 5\n",
    "###### There are 152.4 Cm in 5 ft\n",
    "###### Reference:\n",
    "https://www.rapidtables.com/convert/length/feet-to-cm.html"
   ]
  },
  {
   "cell_type": "code",
   "execution_count": 0,
   "metadata": {
    "colab": {},
    "colab_type": "code",
    "id": "2oougQ7zmgWn",
    "outputId": "cc1993bd-161e-4bc2-d2af-6f6ea2a13a47"
   },
   "outputs": [
    {
     "name": "stdout",
     "output_type": "stream",
     "text": [
      "Enter Height in Feet: 5.11\n",
      "There are 155.7528 Cm in 5.11 ft\n"
     ]
    }
   ],
   "source": [
    "height=float(input(\"Enter Height in Feet: \"))\n",
    "print(f\"There are {30.48*height} Cm in {height} ft\")"
   ]
  },
  {
   "cell_type": "markdown",
   "metadata": {
    "colab_type": "text",
    "id": "VX7kYigDmgWv"
   },
   "source": [
    "## 12. BMI Calculator\n",
    "### Write a Python program to calculate body mass index\n",
    "##### Program Console Sample 1:\n",
    "###### Enter Height in Cm: 180\n",
    "###### Enter Weight in Kg: 75\n",
    "###### Your BMI is 23.15"
   ]
  },
  {
   "cell_type": "code",
   "execution_count": 4,
   "metadata": {
    "colab": {
     "base_uri": "https://localhost:8080/",
     "height": 68
    },
    "colab_type": "code",
    "id": "ALDqhgc8mgWx",
    "outputId": "6acbec50-7e2f-4df5-8ab1-40a6b1ce8fdd"
   },
   "outputs": [
    {
     "name": "stdout",
     "output_type": "stream",
     "text": [
      "Enter Height in cm: 90\n",
      "Enter Weight in Kg: 87\n",
      "Your BMI is 107.41\n"
     ]
    }
   ],
   "source": [
    "height=float(input(\"Enter Height in cm: \"))\n",
    "weight=float(input(\"Enter Weight in Kg: \"))\n",
    "bmi=(weight/(height**2))*(100**2)\n",
    "print(f\"Your BMI is {round(bmi,2)}\")"
   ]
  },
  {
   "cell_type": "markdown",
   "metadata": {
    "colab_type": "text",
    "id": "CqCp_wlomgW6"
   },
   "source": [
    "## 13. Sum of n Positive Integers\n",
    "### Write a python program to sum of the first n positive integers\n",
    "#### Program Console Sample 1:\n",
    "###### Enter value of n: 5\n",
    "###### Sum of n Positive integers till 5 is 15"
   ]
  },
  {
   "cell_type": "code",
   "execution_count": 34,
   "metadata": {
    "colab": {
     "base_uri": "https://localhost:8080/",
     "height": 51
    },
    "colab_type": "code",
    "id": "XlxjARttmgW7",
    "outputId": "a1ffd975-7fde-480a-cc1e-5f17fd502365"
   },
   "outputs": [
    {
     "name": "stdout",
     "output_type": "stream",
     "text": [
      "Enter value of n: 5\n",
      "Sum of positive integers till 5 is 15\n"
     ]
    }
   ],
   "source": [
    "n=int(input(\"Enter value of n: \"))\n",
    "a=0\n",
    "for i in range(1,n+1):\n",
    "    a=a+i\n",
    "print(\"Sum of positive integers till \"+str(n)+\" is \" +str(a))"
   ]
  },
  {
   "cell_type": "code",
   "execution_count": null,
   "metadata": {},
   "outputs": [],
   "source": []
  },
  {
   "cell_type": "markdown",
   "metadata": {
    "colab_type": "text",
    "id": "Zh3dOlTnmgXD"
   },
   "source": [
    "## 14. Digits Sum of a Number\n",
    "### Write a Python program to calculate the sum of the digits in an integer\n",
    "#### Program Console Sample 1:\n",
    "##### Enter a number: 15\n",
    "###### Sum of 1 + 5 is 6\n",
    "#### Program Console Sample 2:\n",
    "##### Enter a number: 1234\n",
    "###### Sum of 1 + 2 + 3 + 4 is 10"
   ]
  },
  {
   "cell_type": "code",
   "execution_count": 32,
   "metadata": {
    "colab": {
     "base_uri": "https://localhost:8080/",
     "height": 51
    },
    "colab_type": "code",
    "id": "lyLoy-a0mgXE",
    "outputId": "1ed33997-71bf-4dff-a110-ade192b435f5",
    "scrolled": true
   },
   "outputs": [
    {
     "name": "stdout",
     "output_type": "stream",
     "text": [
      "Enter a number: 98989\n",
      "The sum of [9, 8, 9, 8, 9] is 43\n"
     ]
    }
   ],
   "source": [
    "number=input(\"Enter a number: \")\n",
    "add=[int(x) for x in str(number)]\n",
    "a=0\n",
    "for i in range(0,len(number)):\n",
    "    a=a+int(number[i])\n",
    "print(\"The sum of \"+str(add),\"is \" +str(a))"
   ]
  },
  {
   "cell_type": "code",
   "execution_count": null,
   "metadata": {},
   "outputs": [],
   "source": []
  }
 ],
 "metadata": {
  "colab": {
   "collapsed_sections": [],
   "name": "PIAIC_Official_Assignment_1_By_Mustafa_Nooruddin.ipynb",
   "provenance": [],
   "version": "0.3.2"
  },
  "kernelspec": {
   "display_name": "Python 3",
   "language": "python",
   "name": "python3"
  },
  "language_info": {
   "codemirror_mode": {
    "name": "ipython",
    "version": 3
   },
   "file_extension": ".py",
   "mimetype": "text/x-python",
   "name": "python",
   "nbconvert_exporter": "python",
   "pygments_lexer": "ipython3",
   "version": "3.7.3"
  }
 },
 "nbformat": 4,
 "nbformat_minor": 1
}
