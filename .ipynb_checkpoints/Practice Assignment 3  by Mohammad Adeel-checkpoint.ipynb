{
 "cells": [
  {
   "cell_type": "markdown",
   "metadata": {},
   "source": [
    "# Q1:"
   ]
  },
  {
   "cell_type": "markdown",
   "metadata": {},
   "source": [
    "Think of at least three kinds of your favorite pizza. Store these pizza names in a list, and then use a for loop to print the name of each pizza."
   ]
  },
  {
   "cell_type": "code",
   "execution_count": 8,
   "metadata": {},
   "outputs": [],
   "source": [
    "pizzas = [\"chickentikka \", \"Fajita\", \"cheese\"]"
   ]
  },
  {
   "cell_type": "code",
   "execution_count": 9,
   "metadata": {},
   "outputs": [
    {
     "name": "stdout",
     "output_type": "stream",
     "text": [
      "chickentikka \n",
      "Fajita\n",
      "cheese\n"
     ]
    }
   ],
   "source": [
    "for pizza in pizzas:\n",
    "    print(pizza)"
   ]
  },
  {
   "cell_type": "markdown",
   "metadata": {},
   "source": [
    "# Q2"
   ]
  },
  {
   "cell_type": "markdown",
   "metadata": {},
   "source": [
    "Start with your last question , Modify your for loop to print a sentence using the name of the pizza\n",
    "instead of printing just the name of the pizza. For each pizza you should\n",
    "have one line of output containing a simple statement like I like pepperoni\n",
    "pizza."
   ]
  },
  {
   "cell_type": "code",
   "execution_count": 10,
   "metadata": {},
   "outputs": [],
   "source": [
    "pizzas = [\"chickentikka \", \"Fajita\", \"cheese\"]"
   ]
  },
  {
   "cell_type": "code",
   "execution_count": 13,
   "metadata": {},
   "outputs": [
    {
     "name": "stdout",
     "output_type": "stream",
     "text": [
      "i like chickentikka  pizza\n",
      "i like Fajita pizza\n",
      "i like cheese pizza\n"
     ]
    }
   ],
   "source": [
    "for p in pizzas:\n",
    "    print(f\"i like {p} pizza\")     "
   ]
  },
  {
   "cell_type": "markdown",
   "metadata": {},
   "source": [
    "# Q3:"
   ]
  },
  {
   "cell_type": "markdown",
   "metadata": {},
   "source": [
    "Use a for loop to print the numbers from 1 to 20,\n",
    "inclusive."
   ]
  },
  {
   "cell_type": "code",
   "execution_count": 15,
   "metadata": {},
   "outputs": [
    {
     "name": "stdout",
     "output_type": "stream",
     "text": [
      "1 2 3 4 5 6 7 8 9 10 11 12 13 14 15 16 17 18 19 20 "
     ]
    }
   ],
   "source": [
    "for i in range (1,21):\n",
    "    print(i, end =\" \")"
   ]
  },
  {
   "cell_type": "markdown",
   "metadata": {},
   "source": [
    "# Q4:"
   ]
  },
  {
   "cell_type": "markdown",
   "metadata": {},
   "source": [
    "Use the third argument of the range() function to make a list\n",
    "of the odd numbers from 1 to 20. Use a for loop to print each number."
   ]
  },
  {
   "cell_type": "code",
   "execution_count": 33,
   "metadata": {},
   "outputs": [
    {
     "name": "stdout",
     "output_type": "stream",
     "text": [
      "list of the odd number from 1-20 is [1, 3, 5, 7, 9, 11, 13, 15, 17, 19]\n"
     ]
    }
   ],
   "source": [
    "odd_num = []\n",
    "for num in range(1,21,2):\n",
    "    odd_num.append(num)\n",
    "print(f\"list of the odd number from 1-20 is {odd_num}\") "
   ]
  },
  {
   "cell_type": "markdown",
   "metadata": {},
   "source": [
    "# Q5:"
   ]
  },
  {
   "cell_type": "markdown",
   "metadata": {},
   "source": [
    "Make a list of the multiples of 3 from 3 to 30. Use a for loop to\n",
    "print the numbers in your list."
   ]
  },
  {
   "cell_type": "code",
   "execution_count": 5,
   "metadata": {},
   "outputs": [
    {
     "data": {
      "text/plain": [
       "[3, 6, 9, 12, 15, 18, 21, 24, 27, 30]"
      ]
     },
     "execution_count": 5,
     "metadata": {},
     "output_type": "execute_result"
    }
   ],
   "source": [
    "multiples_of_3 = []\n",
    "for num in range(3,31):\n",
    "    if num %3 == 0:\n",
    "        multiples_of_3.append(num)\n",
    "multiples_of_3        "
   ]
  },
  {
   "cell_type": "markdown",
   "metadata": {},
   "source": [
    "# Q6:"
   ]
  },
  {
   "cell_type": "markdown",
   "metadata": {},
   "source": [
    "A number raised to the third power is called a cube. For example,\n",
    "the cube of 2 is written as 2**3 in Python. Make a list of the first 10 cubes (that\n",
    "is, the cube of each integer from 1 through 10), and use a for loop to print out\n",
    "the value of each cube"
   ]
  },
  {
   "cell_type": "code",
   "execution_count": 23,
   "metadata": {},
   "outputs": [
    {
     "data": {
      "text/plain": [
       "[1, 8, 27, 64, 125, 216, 343, 512, 729, 1000]"
      ]
     },
     "execution_count": 23,
     "metadata": {},
     "output_type": "execute_result"
    }
   ],
   "source": [
    "cubes = []\n",
    "for num in range(1,11):\n",
    "    cube = num**3\n",
    "    cubes.append(cube)\n",
    "cubes    "
   ]
  },
  {
   "cell_type": "markdown",
   "metadata": {},
   "source": [
    "# Q7:"
   ]
  },
  {
   "cell_type": "markdown",
   "metadata": {},
   "source": [
    "###### Make a python program that conatains your nine favourite dishes in a list called foods.\n",
    "\n",
    "###### Print the message, The first three items in the list are:. \n",
    "###### Then use a slice to print the first three items from that program’s list.\n",
    "\n",
    "###### Print the message, Three items from the middle of the list are:\n",
    "###### Use a slice to print three items from the middle of the list.\n",
    "\n",
    "###### Print the message, The last three items in the list are:\n",
    "###### Use a slice to print the last three items in the list."
   ]
  },
  {
   "cell_type": "code",
   "execution_count": 54,
   "metadata": {},
   "outputs": [],
   "source": [
    "foods = ['biryani','palao','karahi','tikka','daal chawal','kheer','aloo anday','aloo ghost',\"lokie\"]"
   ]
  },
  {
   "cell_type": "code",
   "execution_count": 55,
   "metadata": {},
   "outputs": [
    {
     "name": "stdout",
     "output_type": "stream",
     "text": [
      "The first three items in the list are ['biryani', 'palao', 'karahi']\n"
     ]
    }
   ],
   "source": [
    "print(f\"The first three items in the list are {foods[:3]}\")"
   ]
  },
  {
   "cell_type": "code",
   "execution_count": 56,
   "metadata": {},
   "outputs": [
    {
     "name": "stdout",
     "output_type": "stream",
     "text": [
      "Three items from the middle of the list are ['tikka', 'daal chawal', 'kheer']\n"
     ]
    }
   ],
   "source": [
    "print(f\"Three items from the middle of the list are {foods[3:6]}\")"
   ]
  },
  {
   "cell_type": "code",
   "execution_count": 57,
   "metadata": {},
   "outputs": [
    {
     "name": "stdout",
     "output_type": "stream",
     "text": [
      "The last three items in the the list are ['aloo anday', 'aloo ghost', 'lokie']\n"
     ]
    }
   ],
   "source": [
    "print(f\"The last three items in the the list are {foods[6:]}\")"
   ]
  },
  {
   "cell_type": "code",
   "execution_count": 59,
   "metadata": {},
   "outputs": [
    {
     "name": "stdout",
     "output_type": "stream",
     "text": [
      "The first three items in the list are ['biryani', 'palao', 'karahi'] \n",
      "Three items from the middle of the list are ['tikka', 'daal chawal', 'kheer'] \n",
      "The last three items in the the list are ['aloo anday', 'aloo ghost', 'lokie']\n"
     ]
    }
   ],
   "source": [
    "print(f\"The first three items in the list are {foods[:3]} \\nThree items from the middle of the list are {foods[3:6]} \\nThe last three items in the the list are {foods[6:]}\")"
   ]
  },
  {
   "cell_type": "markdown",
   "metadata": {},
   "source": [
    "# Q8:"
   ]
  },
  {
   "cell_type": "markdown",
   "metadata": {},
   "source": [
    "### Start with your program from your last Question8.\n",
    "###### Make a copy of the list of foods, and call it friend_foods.\n",
    "###### Then, do the following:\n",
    "######    Add a new dish to the original list.\n",
    "######    Add a different dish to the list friend_foodss.\n",
    "######    Prove that you have two separate lists. \n",
    "###### Print the message, My favorite pizzas are: and then use a for loop to print the first list. \n",
    "###### Print the message,\n",
    "###### My friend’s favorite foods are:, and then use a for loop to print the second list.\n",
    "    \n",
    "##### NOTE: Make sure each new dish is stored in the appropriate list."
   ]
  },
  {
   "cell_type": "code",
   "execution_count": 60,
   "metadata": {},
   "outputs": [
    {
     "name": "stdout",
     "output_type": "stream",
     "text": [
      "['biryani', 'palao', 'karahi', 'tikka', 'daal chawal', 'kheer', 'aloo anday', 'aloo ghost', 'lokie']\n"
     ]
    }
   ],
   "source": [
    "friend_food = foods.copy()\n",
    "print(friend_food)"
   ]
  },
  {
   "cell_type": "code",
   "execution_count": 61,
   "metadata": {},
   "outputs": [
    {
     "name": "stdout",
     "output_type": "stream",
     "text": [
      "['biryani', 'palao', 'karahi', 'tikka', 'daal chawal', 'kheer', 'aloo anday', 'aloo ghost', 'lokie', 'paye']\n"
     ]
    }
   ],
   "source": [
    "friend_food.append(\"paye\")\n",
    "print(friend_food)"
   ]
  },
  {
   "cell_type": "code",
   "execution_count": 63,
   "metadata": {},
   "outputs": [
    {
     "name": "stdout",
     "output_type": "stream",
     "text": [
      "My favourite foods are biryani\n",
      "My favourite foods are palao\n",
      "My favourite foods are karahi\n",
      "My favourite foods are tikka\n",
      "My favourite foods are daal chawal\n",
      "My favourite foods are kheer\n",
      "My favourite foods are aloo anday\n",
      "My favourite foods are aloo ghost\n",
      "My favourite foods are lokie\n"
     ]
    }
   ],
   "source": [
    "for i in foods:\n",
    "    print(f\"My favourite foods are {i}\")"
   ]
  },
  {
   "cell_type": "code",
   "execution_count": 64,
   "metadata": {},
   "outputs": [
    {
     "name": "stdout",
     "output_type": "stream",
     "text": [
      "My friend favourite food are biryani\n",
      "My friend favourite food are palao\n",
      "My friend favourite food are karahi\n",
      "My friend favourite food are tikka\n",
      "My friend favourite food are daal chawal\n",
      "My friend favourite food are kheer\n",
      "My friend favourite food are aloo anday\n",
      "My friend favourite food are aloo ghost\n",
      "My friend favourite food are lokie\n",
      "My friend favourite food are paye\n"
     ]
    }
   ],
   "source": [
    "for i in friend_food:\n",
    "    print(f\"My friend favourite food are {i}\")"
   ]
  },
  {
   "cell_type": "markdown",
   "metadata": {},
   "source": [
    "# Q9:"
   ]
  },
  {
   "cell_type": "markdown",
   "metadata": {},
   "source": [
    "Take a user input from console line.Store it in a variable called Alien_color.\n",
    "\n",
    "If the alien’s color is red, print a statement that the player just earned 5 points for shooting the alien.\n",
    "\n",
    "If the alien’s color isn’t green, print a statement that the player just earned 10 points.\n",
    "\n",
    "If the alien's color isn't red or green , print a statment :, Alien is no more....."
   ]
  },
  {
   "cell_type": "code",
   "execution_count": 114,
   "metadata": {},
   "outputs": [
    {
     "name": "stdout",
     "output_type": "stream",
     "text": [
      "Enter the color :blue\n"
     ]
    }
   ],
   "source": [
    "aliens_color = input(\"Enter the color :\")"
   ]
  },
  {
   "cell_type": "code",
   "execution_count": 115,
   "metadata": {},
   "outputs": [
    {
     "name": "stdout",
     "output_type": "stream",
     "text": [
      "Aliens is no more\n"
     ]
    }
   ],
   "source": [
    "if aliens_color == \"red\":\n",
    "    print(\"player just earned 5 points for shooting the alien\")\n",
    "elif aliens_color == \"green\":\n",
    "    print(\"player just earned 10 points\")\n",
    "else:\n",
    "    print(\"Aliens is no more\")"
   ]
  },
  {
   "cell_type": "markdown",
   "metadata": {},
   "source": [
    "# Q10:"
   ]
  },
  {
   "cell_type": "markdown",
   "metadata": {},
   "source": [
    "Write an if-elif-else chain that determines a person’s\n",
    "stage of life. Set a value for the variable age, and then:\n",
    "    \n",
    "•\t If the person is less than 2 years old, print a message that the person is a baby.\n",
    "\n",
    "•\t If the person is at least 2 years old but less than 4, print a message that the person is a toddler.\n",
    "\n",
    "•\t If the person is at least 4 years old but less than 13, print a message that the person is a kid.\n",
    "\n",
    "•\t If the person is at least 13 years old but less than 20, print a message that the person is a teenager.\n",
    "\n",
    "•\t If the person is at least 20 years old but less than 65, print a message that the person is an adult.\n",
    "\n",
    "•\t If the person is age 65 or older, print a message that the person is an elder."
   ]
  },
  {
   "cell_type": "code",
   "execution_count": 1,
   "metadata": {},
   "outputs": [
    {
     "name": "stdout",
     "output_type": "stream",
     "text": [
      "Enter person age :6666666666666666666666666666666666666\n"
     ]
    }
   ],
   "source": [
    "person_age = int(input(\"Enter person age :\"))"
   ]
  },
  {
   "cell_type": "code",
   "execution_count": 2,
   "metadata": {},
   "outputs": [
    {
     "name": "stdout",
     "output_type": "stream",
     "text": [
      "That the person is an elder\n"
     ]
    }
   ],
   "source": [
    "if person_age < 2 :\n",
    "    print(\"that the person is a baby\")\n",
    "elif person_age == 2 or person_age < 4:\n",
    "    print(\"That the person is toddler\")\n",
    "elif person_age == 4 or person_age < 13:\n",
    "    print(\"That the person is a kid\")\n",
    "elif person_age == 13 or person_age < 20 :\n",
    "    print(\"That the person is a teenager\")\n",
    "elif person_age == 20 or person_age < 65 :\n",
    "    print(\"That the person is an adult\")\n",
    "elif person_age >= 65:\n",
    "    print(\"That the person is an elder\")"
   ]
  },
  {
   "cell_type": "markdown",
   "metadata": {},
   "source": [
    "# Q11:"
   ]
  },
  {
   "cell_type": "markdown",
   "metadata": {},
   "source": [
    "Do the following to create a program that simulates how websites ensure that everyone has a unique username.\n",
    "\n",
    "•\t Make a list of five or more usernames called current_users.\n",
    "\n",
    "•\t Make another list of five usernames called new_users. \n",
    "Make sure one or two of the new usernames are also in the current_users list.\n",
    "\n",
    "•\t Loop through the new_users list to see if each new username has already been used. \n",
    "If it has, print a message that the person will need to enter a new username. \n",
    "If a username has not been used, print a message saying that the username is available.\n",
    "\n",
    "•\t Make sure your comparison is case insensitive. If 'John' has been used, 'JOHN' should not be accepted."
   ]
  },
  {
   "cell_type": "code",
   "execution_count": 171,
   "metadata": {},
   "outputs": [
    {
     "name": "stdout",
     "output_type": "stream",
     "text": [
      "That the person shaykadeel username has already been used \n",
      "That the person muzzammilali username has already been used \n",
      "shaykwasi username is available\n",
      "waleedansari username is available\n",
      "junejoirfan username is available\n"
     ]
    }
   ],
   "source": [
    "current_users = ['shaykadeel','muzzammilali','kabirroy','sarimkhan','shabirkaimi']\n",
    "new_users = ['shaykadeel','muzzammilali','shaykwasi','waleedansari','junejoirfan']\n",
    "for name in new_users:\n",
    "    if name in current_users:\n",
    "        print(f\"That the person {name} username has already been used \")\n",
    "    else:\n",
    "        print(f\"{name} username is available\")"
   ]
  },
  {
   "cell_type": "markdown",
   "metadata": {},
   "source": [
    "# Q12:"
   ]
  },
  {
   "cell_type": "markdown",
   "metadata": {},
   "source": [
    "Use a dictionary to store information about a person you know.\n",
    "Store their first name, last name, age, and the city in which they live. \n",
    "You should have keys such as first_name, last_name, age, and city. \n",
    "Print each piece of information stored in your dictionary"
   ]
  },
  {
   "cell_type": "code",
   "execution_count": 172,
   "metadata": {},
   "outputs": [],
   "source": [
    "person_info = {\"first_name\":\"Muzammil\",\"last_name\":\"Ali\",\"age\":20,\"city\":\"Karachi\"}"
   ]
  },
  {
   "cell_type": "code",
   "execution_count": 173,
   "metadata": {},
   "outputs": [
    {
     "data": {
      "text/plain": [
       "'Muzammil'"
      ]
     },
     "execution_count": 173,
     "metadata": {},
     "output_type": "execute_result"
    }
   ],
   "source": [
    "person_info[\"first_name\"]"
   ]
  },
  {
   "cell_type": "code",
   "execution_count": 174,
   "metadata": {},
   "outputs": [
    {
     "data": {
      "text/plain": [
       "'Ali'"
      ]
     },
     "execution_count": 174,
     "metadata": {},
     "output_type": "execute_result"
    }
   ],
   "source": [
    "person_info[\"last_name\"]"
   ]
  },
  {
   "cell_type": "code",
   "execution_count": 175,
   "metadata": {},
   "outputs": [
    {
     "data": {
      "text/plain": [
       "20"
      ]
     },
     "execution_count": 175,
     "metadata": {},
     "output_type": "execute_result"
    }
   ],
   "source": [
    "person_info[\"age\"]"
   ]
  },
  {
   "cell_type": "code",
   "execution_count": 176,
   "metadata": {},
   "outputs": [
    {
     "data": {
      "text/plain": [
       "'Karachi'"
      ]
     },
     "execution_count": 176,
     "metadata": {},
     "output_type": "execute_result"
    }
   ],
   "source": [
    "person_info[\"city\"]"
   ]
  },
  {
   "cell_type": "markdown",
   "metadata": {},
   "source": [
    "# Q13:"
   ]
  },
  {
   "cell_type": "markdown",
   "metadata": {},
   "source": [
    "Starts with your last question 12 , loop through the dictionary’s keys and values.\n",
    "When you’re sure that your loop works, add five more Python terms to your\n",
    "dictionary . When you run your program again, these new words and meanings\n",
    "should automatically be included in the output."
   ]
  },
  {
   "cell_type": "code",
   "execution_count": 183,
   "metadata": {},
   "outputs": [],
   "source": [
    "person_info = {\"first_name\":\"Muzammil\",\"last_name\":\"Ali\",\"age\":20,\"city\":\"Karachi\"}"
   ]
  },
  {
   "cell_type": "code",
   "execution_count": 191,
   "metadata": {},
   "outputs": [
    {
     "name": "stdout",
     "output_type": "stream",
     "text": [
      "first_name : Muzammil\n",
      "last_name : Ali\n",
      "age : 20\n",
      "city : Karachi\n",
      "status : single\n",
      "work : free lancing\n",
      "qualificaton : under graduate\n"
     ]
    },
    {
     "data": {
      "text/plain": [
       "{'first_name': 'Muzammil',\n",
       " 'last_name': 'Ali',\n",
       " 'age': 20,\n",
       " 'city': 'Karachi',\n",
       " 'status': 'single',\n",
       " 'work': 'free lancing',\n",
       " 'qualificaton': 'under graduate'}"
      ]
     },
     "execution_count": 191,
     "metadata": {},
     "output_type": "execute_result"
    }
   ],
   "source": [
    "person_info[\"status\"] = \"single\"\n",
    "person_info[\"work\"] = \"free lancing\"\n",
    "person_info[\"qualificaton\"] = \"under graduate\"\n",
    "for (k,v) in person_info.items():\n",
    "    print(f\"{k} : {v}\")\n",
    "person_info    "
   ]
  },
  {
   "cell_type": "markdown",
   "metadata": {},
   "source": [
    "# Q14:"
   ]
  },
  {
   "cell_type": "markdown",
   "metadata": {},
   "source": [
    "Make a dictionary containing three major rivers and the country\n",
    "each river runs through. One key-value pair might be 'nile': 'egypt'.\n",
    "    \n",
    "    \n",
    "•\t Use a loop to print a sentence about each river, such as The Nile runs\n",
    "through Egypt.\n",
    "\n",
    "NOTE: use upper case through keys and values."
   ]
  },
  {
   "cell_type": "code",
   "execution_count": 196,
   "metadata": {},
   "outputs": [],
   "source": [
    "major_rivers = {\"egypt\":\"nile\",\"south america\":\"Amazon\",\"China\":\"Yangtze\"}"
   ]
  },
  {
   "cell_type": "code",
   "execution_count": 200,
   "metadata": {},
   "outputs": [
    {
     "name": "stdout",
     "output_type": "stream",
     "text": [
      "The NILE runs through the EGYPT\n",
      "The AMAZON runs through the SOUTH AMERICA\n",
      "The YANGTZE runs through the CHINA\n"
     ]
    }
   ],
   "source": [
    "for (keys,values) in major_rivers.items():\n",
    "    print(f\"The {values.upper()} runs through the {keys.upper()}\")"
   ]
  },
  {
   "cell_type": "markdown",
   "metadata": {},
   "source": [
    "# Q15:"
   ]
  },
  {
   "cell_type": "markdown",
   "metadata": {},
   "source": [
    "Make several dictionaries, where the name of each dictionary is the\n",
    "name of a pet. In each dictionary, include the kind of animal and the owner’s\n",
    "name. Store these dictionaries in a list called pets. Next, loop through your list\n",
    "peyand as you do print everything you know about each pet."
   ]
  },
  {
   "cell_type": "code",
   "execution_count": 3,
   "metadata": {},
   "outputs": [
    {
     "name": "stdout",
     "output_type": "stream",
     "text": [
      "Animal : Cat\n",
      "Owner : Saqib\n",
      "Animal : Dog\n",
      "Owner : Jacob\n",
      "Animal : Rabbit\n",
      "Owner : Birju\n",
      "Animal : Goat\n",
      "Owner : Macho\n"
     ]
    },
    {
     "data": {
      "text/plain": [
       "[{'animal': 'cat', 'owner': 'saqib'},\n",
       " {'animal': 'dog', 'owner': 'jacob'},\n",
       " {'animal': 'rabbit', 'owner': 'birju'},\n",
       " {'animal': 'goat', 'owner': 'macho'}]"
      ]
     },
     "execution_count": 3,
     "metadata": {},
     "output_type": "execute_result"
    }
   ],
   "source": [
    "pets = []\n",
    "pet1 = {'animal':\"cat\",\"owner\":\"saqib\"}\n",
    "pets.append(pet1)\n",
    "pet2 = {'animal':\"dog\",\"owner\":\"jacob\"}\n",
    "pets.append(pet2)\n",
    "pet3 = {'animal': \"rabbit\",\"owner\":\"birju\"}\n",
    "pets.append(pet3)\n",
    "pet4 = {'animal':\"goat\",\"owner\":\"macho\"}\n",
    "pets.append(pet4)\n",
    "for animals in pets:\n",
    "    for key,value in animals.items():\n",
    "        print(f\"{key.title()} : {value.title()}\")\n",
    "pets    "
   ]
  },
  {
   "cell_type": "code",
   "execution_count": null,
   "metadata": {},
   "outputs": [],
   "source": []
  }
 ],
 "metadata": {
  "kernelspec": {
   "display_name": "Python 3",
   "language": "python",
   "name": "python3"
  },
  "language_info": {
   "codemirror_mode": {
    "name": "ipython",
    "version": 3
   },
   "file_extension": ".py",
   "mimetype": "text/x-python",
   "name": "python",
   "nbconvert_exporter": "python",
   "pygments_lexer": "ipython3",
   "version": "3.7.3"
  }
 },
 "nbformat": 4,
 "nbformat_minor": 2
}
