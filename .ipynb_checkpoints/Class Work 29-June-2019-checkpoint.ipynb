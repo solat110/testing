{
 "cells": [
  {
   "cell_type": "code",
   "execution_count": 5,
   "metadata": {},
   "outputs": [],
   "source": [
    "def cars(model,make,*specs):\n",
    "    print(model, make)\n",
    "    print(specs)\n"
   ]
  },
  {
   "cell_type": "code",
   "execution_count": 6,
   "metadata": {},
   "outputs": [
    {
     "name": "stdout",
     "output_type": "stream",
     "text": [
      "2010 Toyota Corolla\n",
      "('Alloyrim', 'Tape', 'Power window')\n"
     ]
    }
   ],
   "source": [
    "cars(2010, \"Toyota Corolla\",\"Alloyrim\",\"Tape\",\"Power window\")"
   ]
  },
  {
   "cell_type": "code",
   "execution_count": 7,
   "metadata": {},
   "outputs": [
    {
     "name": "stdout",
     "output_type": "stream",
     "text": [
      "2010 Toyota Corolla\n",
      "('Automatic',)\n"
     ]
    }
   ],
   "source": [
    "cars(2010,\"Toyota Corolla\",\"Automatic\")"
   ]
  },
  {
   "cell_type": "code",
   "execution_count": 8,
   "metadata": {},
   "outputs": [
    {
     "name": "stdout",
     "output_type": "stream",
     "text": [
      "2015 Honda Civic\n",
      "(['Alloyrim', 'Tape', 'Power window'],)\n"
     ]
    }
   ],
   "source": [
    "cars(2015,\"Honda Civic\",[\"Alloyrim\",\"Tape\",\"Power window\"])"
   ]
  },
  {
   "cell_type": "code",
   "execution_count": 17,
   "metadata": {},
   "outputs": [],
   "source": [
    "def pizza(name,size,payment,*toppings):\n",
    "    print(\"Order is given by: \"+name)\n",
    "    print(\"Size of Pizza is: \"+size)\n",
    "    print(\"your Amount for Pizza is: \"+payment)\n",
    "    print(\"Toppings are : \")\n",
    "    for topping in toppings:\n",
    "        print(topping)"
   ]
  },
  {
   "cell_type": "code",
   "execution_count": 18,
   "metadata": {},
   "outputs": [
    {
     "name": "stdout",
     "output_type": "stream",
     "text": [
      "Order is given by: Salman\n",
      "Size of Pizza is: 10inch pizza\n",
      "your Amount for Pizza is: Rs.900\n",
      "Toppings are : \n",
      "Extra Cheese\n",
      "Olives\n",
      "soft Crust\n"
     ]
    }
   ],
   "source": [
    "pizza(\"Salman\",\"10inch pizza\",\"Rs.900\",\"Extra Cheese\",\"Olives\",\"soft Crust\")"
   ]
  },
  {
   "cell_type": "markdown",
   "metadata": {},
   "source": [
    "# Keyword Arguments"
   ]
  },
  {
   "cell_type": "code",
   "execution_count": 19,
   "metadata": {},
   "outputs": [],
   "source": [
    "def person(fname,lname, **about):\n",
    "    print (fname, lname)\n",
    "    print (about)"
   ]
  },
  {
   "cell_type": "code",
   "execution_count": 29,
   "metadata": {},
   "outputs": [
    {
     "name": "stdout",
     "output_type": "stream",
     "text": [
      "Solat Abbas\n",
      "{'age': 25, 'address': 'Karachi'}\n"
     ]
    }
   ],
   "source": [
    "person(\"Solat\",\"Abbas\", age=25, address=\"Karachi\")"
   ]
  },
  {
   "cell_type": "code",
   "execution_count": 23,
   "metadata": {},
   "outputs": [
    {
     "name": "stdout",
     "output_type": "stream",
     "text": [
      "Tim John\n",
      "{'age': 30, 'P_Number': [300562566, 3015686545], 'address': 'Lahore'}\n"
     ]
    }
   ],
   "source": [
    "person(\"Tim\",\"John\",age = 30, P_Number=[300562566, 3015686545], address = \"Lahore\")"
   ]
  },
  {
   "cell_type": "markdown",
   "metadata": {},
   "source": [
    "# Using Function as a Variable"
   ]
  },
  {
   "cell_type": "code",
   "execution_count": 25,
   "metadata": {},
   "outputs": [],
   "source": [
    "def add():\n",
    "    x = 3+5\n",
    "    return x"
   ]
  },
  {
   "cell_type": "code",
   "execution_count": 31,
   "metadata": {},
   "outputs": [],
   "source": [
    "def sub():\n",
    "    y = 23-9\n",
    "    return y"
   ]
  },
  {
   "cell_type": "code",
   "execution_count": 32,
   "metadata": {},
   "outputs": [],
   "source": [
    "answer = add()+sub()"
   ]
  },
  {
   "cell_type": "code",
   "execution_count": null,
   "metadata": {},
   "outputs": [],
   "source": []
  },
  {
   "cell_type": "code",
   "execution_count": null,
   "metadata": {},
   "outputs": [],
   "source": []
  }
 ],
 "metadata": {
  "kernelspec": {
   "display_name": "Python 3",
   "language": "python",
   "name": "python3"
  },
  "language_info": {
   "codemirror_mode": {
    "name": "ipython",
    "version": 3
   },
   "file_extension": ".py",
   "mimetype": "text/x-python",
   "name": "python",
   "nbconvert_exporter": "python",
   "pygments_lexer": "ipython3",
   "version": "3.7.3"
  }
 },
 "nbformat": 4,
 "nbformat_minor": 2
}
