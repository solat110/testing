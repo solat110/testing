{
 "cells": [
  {
   "cell_type": "markdown",
   "metadata": {},
   "source": [
    "# Question 1: \n",
    "Store a message in a variable, and then print that message?"
   ]
  },
  {
   "cell_type": "code",
   "execution_count": 1,
   "metadata": {},
   "outputs": [
    {
     "name": "stdout",
     "output_type": "stream",
     "text": [
      "I love to learn Pythone\n"
     ]
    }
   ],
   "source": [
    "message = \"I love to learn Pythone\"\n",
    "print (message)"
   ]
  },
  {
   "cell_type": "markdown",
   "metadata": {},
   "source": [
    "# Question 2:\n",
    "Store a message in a variable, and print that message.\n",
    "Then change the value of your variable to a new message, and print the new\n",
    "message ?"
   ]
  },
  {
   "cell_type": "code",
   "execution_count": 5,
   "metadata": {},
   "outputs": [
    {
     "name": "stdout",
     "output_type": "stream",
     "text": [
      "I am Learning AI for Everyone from Coursera\n",
      "I have completed AI for Everyone and got Certificate\n"
     ]
    }
   ],
   "source": [
    "message1 = \"I am Learning AI for Everyone from Coursera\"\n",
    "print (message1)\n",
    "message1 = \"I have completed AI for Everyone and got Certificate\"\n",
    "print (message1)"
   ]
  },
  {
   "cell_type": "markdown",
   "metadata": {},
   "source": [
    "# Question 3:\n",
    "Store a person’s name in a variable, and print a message to that person. Your message should be simple, such as, “Hello Shahzad,\n",
    "would you like to learn some Python today?”"
   ]
  },
  {
   "cell_type": "code",
   "execution_count": 10,
   "metadata": {},
   "outputs": [
    {
     "name": "stdout",
     "output_type": "stream",
     "text": [
      "Hello SOLAT, would you like to learn some Python today?\n"
     ]
    }
   ],
   "source": [
    "name = (\"SOLAT\")\n",
    "print (\"Hello \" + name + \", would you like to learn some Python today?\")"
   ]
  },
  {
   "cell_type": "markdown",
   "metadata": {},
   "source": [
    "# Question 4:\n",
    "Store a person’s name in a variable, and then print that person’s name in lowercase, uppercase, and titlecase."
   ]
  },
  {
   "cell_type": "code",
   "execution_count": 12,
   "metadata": {},
   "outputs": [
    {
     "name": "stdout",
     "output_type": "stream",
     "text": [
      "solat abbas\n",
      "SOLAT ABBAS\n",
      "Solat Abbas\n"
     ]
    }
   ],
   "source": [
    "p_name = \"Solat Abbas\"\n",
    "print(p_name.lower())\n",
    "print(p_name.upper())\n",
    "print(p_name.title())"
   ]
  },
  {
   "cell_type": "markdown",
   "metadata": {},
   "source": [
    "# Question 5:\n",
    "Find a quote from a famous person you admire. Print the\n",
    "quote and the name of its author. Your output should look something like the\n",
    "following, including the quotation marks:\n",
    "\n",
    "Albert Einstein once said, “A person who never made a\n",
    "mistake never tried anything new.”"
   ]
  },
  {
   "cell_type": "code",
   "execution_count": 18,
   "metadata": {},
   "outputs": [
    {
     "name": "stdout",
     "output_type": "stream",
     "text": [
      "Allama Iqbal once said, \"The ultimate aim of the ego is not to see something, but to be something\" \n"
     ]
    }
   ],
   "source": [
    "name = \"Allama Iqbal\"\n",
    "quote = \" \\\"The ultimate aim of the ego is not to see something, but to be something\\\" \"\n",
    "print (name + \" once said,\" + quote)"
   ]
  },
  {
   "cell_type": "markdown",
   "metadata": {},
   "source": [
    "# Question 6:\n",
    "Write addition, subtraction, multiplication, and division\n",
    "operations that each result in the number 8. Be sure to enclose your operations\n",
    "in print statements to see the results. You should create four lines that look\n",
    "like this:\n",
    "    \n",
    "    \n",
    "print(5 + 3)"
   ]
  },
  {
   "cell_type": "code",
   "execution_count": 22,
   "metadata": {},
   "outputs": [
    {
     "name": "stdout",
     "output_type": "stream",
     "text": [
      "8\n",
      "8\n",
      "8\n",
      "8.0\n"
     ]
    }
   ],
   "source": [
    "#Addition\n",
    "print(5+3)\n",
    "\n",
    "#Subtraction\n",
    "print(10-2)\n",
    "\n",
    "#Multiplication\n",
    "print(4*2)\n",
    "\n",
    "#Division\n",
    "print(32/4)"
   ]
  },
  {
   "cell_type": "markdown",
   "metadata": {},
   "source": [
    "# Question 7:\n",
    "Create a variable called number1 with the value of 8.\n",
    "Write a print statement to print number1 multiplied by 9."
   ]
  },
  {
   "cell_type": "code",
   "execution_count": 23,
   "metadata": {},
   "outputs": [
    {
     "name": "stdout",
     "output_type": "stream",
     "text": [
      "72\n"
     ]
    }
   ],
   "source": [
    "number1 = 8\n",
    "print (number1*9)"
   ]
  },
  {
   "cell_type": "markdown",
   "metadata": {},
   "source": [
    "# Question 8:\n",
    "Store your favorite number in a variable. Then, using\n",
    "that variable, create a message that reveals your favorite number. Print that\n",
    "message."
   ]
  },
  {
   "cell_type": "code",
   "execution_count": 30,
   "metadata": {},
   "outputs": [
    {
     "name": "stdout",
     "output_type": "stream",
     "text": [
      "9 is my favorite number.\n"
     ]
    }
   ],
   "source": [
    "fav_num = (9)\n",
    "print (str(fav_num) + \" is my favorite number.\")"
   ]
  },
  {
   "cell_type": "markdown",
   "metadata": {},
   "source": [
    "# Question 9:\n",
    "Store your name and your age in a varibale called my_name and my_age.\n",
    "Use format method to print your name and your age.\n",
    "Your final output sholud be like this:\n",
    "\n",
    "OUTPUT:    \n",
    "My name is Shahzad Ahsan and my age is 21.\n",
    "\n",
    "NOTE:Use both of the format methods which were discuss in the class."
   ]
  },
  {
   "cell_type": "code",
   "execution_count": 48,
   "metadata": {},
   "outputs": [
    {
     "name": "stdout",
     "output_type": "stream",
     "text": [
      "My name is Solat Rizvi and my age is 30.\n"
     ]
    }
   ],
   "source": [
    "my_name = \"Solat Rizvi\"\n",
    "my_age = (30)\n",
    "print (\"My name is \" + my_name + \" and my age is \" + str(my_age) + \".\" )"
   ]
  },
  {
   "cell_type": "markdown",
   "metadata": {},
   "source": [
    "# Question 10:\n",
    "Write a Python program to check if a number is positive, negative or zero."
   ]
  },
  {
   "cell_type": "code",
   "execution_count": 72,
   "metadata": {},
   "outputs": [
    {
     "name": "stdout",
     "output_type": "stream",
     "text": [
      "Enter any number to check 0\n",
      "your entered number is a Zero\n"
     ]
    }
   ],
   "source": [
    "check_num = int(input (\"Enter any number to check \"))\n",
    "\n",
    "if check_num < 0:\n",
    "    print (\"your entered number is a Negative\")\n",
    "    \n",
    "if check_num  ==0:\n",
    "    print (\"your entered number is a Zero\")\n",
    "    \n",
    "if check_num > 0:\n",
    "    print(\"your entered number is a Positive \")"
   ]
  },
  {
   "cell_type": "markdown",
   "metadata": {},
   "source": [
    "# Question 11:\n",
    "Write a Python program which accepts the radius of a circle from the user and compute the\n",
    "area."
   ]
  },
  {
   "cell_type": "code",
   "execution_count": 79,
   "metadata": {},
   "outputs": [
    {
     "name": "stdout",
     "output_type": "stream",
     "text": [
      "Enter the Radius of a circle 66\n",
      "The Area of a Circle is 13677.84\n"
     ]
    }
   ],
   "source": [
    "# Area = pi.r.r\n",
    "radius_c = int(input(\"Enter the Radius of a circle \"))\n",
    "pi = (3.14)\n",
    "area = pi * radius_c * radius_c\n",
    "print(\"The Area of a Circle is \" + str(area) )"
   ]
  },
  {
   "cell_type": "markdown",
   "metadata": {},
   "source": [
    "# Question 12:\n",
    "Write a Python function to check whether a number is completely divisible by another\n",
    "number. Accept two integer values form the user"
   ]
  },
  {
   "cell_type": "code",
   "execution_count": 85,
   "metadata": {},
   "outputs": [
    {
     "name": "stdout",
     "output_type": "stream",
     "text": [
      "Enter a Number: 8\n",
      "Enter a divide number: 8\n",
      "Yes this number is completly divisible\n"
     ]
    }
   ],
   "source": [
    "num1 = int(input(\"Enter a Number: \" ))\n",
    "num2 = int(input(\"Enter a divide number: \"))\n",
    "answer = num1/num2\n",
    "if answer ==1:\n",
    "    print (\"Yes this number is completly divisible\")\n",
    "else:\n",
    "    print (\"NO this number is not completly divisible\")"
   ]
  },
  {
   "cell_type": "markdown",
   "metadata": {},
   "source": [
    "# Question 13:\n",
    "Write a Python program to find whether a given number (accept from the user) is even or\n",
    "odd, print out an appropriate message to the user."
   ]
  },
  {
   "cell_type": "code",
   "execution_count": 1,
   "metadata": {},
   "outputs": [
    {
     "name": "stdout",
     "output_type": "stream",
     "text": [
      "enter here a number: 55\n",
      "your entered number is odd\n"
     ]
    }
   ],
   "source": [
    "num=int(input(\"enter here a number: \"))\n",
    "\n",
    "if num%2==0:\n",
    "    print(\"your entered number is even \")\n",
    "else:\n",
    "    print (\"your entered number is odd\")"
   ]
  },
  {
   "cell_type": "markdown",
   "metadata": {},
   "source": [
    "# Question 14:\n",
    "Print a suitable statement that uses their response. Such as, if they entered “Bangkok”: “I’d love to visit Bangkook more often”."
   ]
  },
  {
   "cell_type": "code",
   "execution_count": 4,
   "metadata": {},
   "outputs": [
    {
     "name": "stdout",
     "output_type": "stream",
     "text": [
      "Please Enter Place Name: Singapore\n",
      "I'd love to visit Singapore more often.\n"
     ]
    }
   ],
   "source": [
    "place = (input(\"Please Enter Place Name: \"))\n",
    "print (\"I'd love to visit \" + place + \" more often.\")"
   ]
  },
  {
   "cell_type": "markdown",
   "metadata": {},
   "source": [
    "# Question 15:\n",
    "Write an input line to ask a user whether they want to take the red pill or the blue pill.\n",
    "\n",
    " If they write “red” then print “You stay in wonderland and see how far the rabbit hole goes”.\n",
    " \n",
    " Elif they write “blue” then print “You wake up in your bed and believe what you want to believe.”.\n",
    " \n",
    " Else print “That’s not an option Neo.”"
   ]
  },
  {
   "cell_type": "code",
   "execution_count": 13,
   "metadata": {},
   "outputs": [
    {
     "name": "stdout",
     "output_type": "stream",
     "text": [
      "Which Pill Color do you want? orange\n",
      "That's not an option Neo.\n"
     ]
    }
   ],
   "source": [
    "pill_color = (input(\"Which Pill Color do you want? \"))\n",
    "if pill_color ==(\"red\"):\n",
    "    print (\"You stay in wonderland and see how far the rabbit hole goes\")\n",
    "elif pill_color == (\"blue\"):\n",
    "    print (\"You wake up in your bed and believe what you want to believe.\")\n",
    "else:\n",
    "    print (\"That's not an option Neo.\")"
   ]
  }
 ],
 "metadata": {
  "kernelspec": {
   "display_name": "Python 3",
   "language": "python",
   "name": "python3"
  },
  "language_info": {
   "codemirror_mode": {
    "name": "ipython",
    "version": 3
   },
   "file_extension": ".py",
   "mimetype": "text/x-python",
   "name": "python",
   "nbconvert_exporter": "python",
   "pygments_lexer": "ipython3",
   "version": "3.7.3"
  }
 },
 "nbformat": 4,
 "nbformat_minor": 2
}
