{
 "cells": [
  {
   "cell_type": "code",
   "execution_count": 2,
   "metadata": {},
   "outputs": [
    {
     "name": "stdout",
     "output_type": "stream",
     "text": [
      "Do you have CNIC: Yes\n",
      "Are you in voter list: Yes\n",
      "You can cast your Vote\n"
     ]
    }
   ],
   "source": [
    "haveCNIC = input(\"Do you have CNIC: \")\n",
    "\n",
    "if haveCNIC == \"Yes\":\n",
    "\n",
    "    inVoterList = input(\"Are you in voter list: \")\n",
    "    if inVoterList == \"Yes\":\n",
    "        print(\"You can cast your Vote\")\n",
    "    else:\n",
    "        print(\"You Cannot Cast Your Vote\")\n",
    "else:\n",
    "    print(\"You cannpt cast your vote\")"
   ]
  },
  {
   "cell_type": "code",
   "execution_count": null,
   "metadata": {},
   "outputs": [],
   "source": []
  }
 ],
 "metadata": {
  "kernelspec": {
   "display_name": "Python 3",
   "language": "python",
   "name": "python3"
  },
  "language_info": {
   "codemirror_mode": {
    "name": "ipython",
    "version": 3
   },
   "file_extension": ".py",
   "mimetype": "text/x-python",
   "name": "python",
   "nbconvert_exporter": "python",
   "pygments_lexer": "ipython3",
   "version": "3.7.3"
  }
 },
 "nbformat": 4,
 "nbformat_minor": 2
}
